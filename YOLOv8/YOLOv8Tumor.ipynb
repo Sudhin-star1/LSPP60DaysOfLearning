{
  "nbformat": 4,
  "nbformat_minor": 0,
  "metadata": {
    "colab": {
      "provenance": []
    },
    "kernelspec": {
      "name": "python3",
      "display_name": "Python 3"
    },
    "language_info": {
      "name": "python"
    }
  },
  "cells": [
    {
      "cell_type": "code",
      "execution_count": 1,
      "metadata": {
        "colab": {
          "base_uri": "https://localhost:8080/"
        },
        "id": "mg2RBRGbVG7T",
        "outputId": "83a359b2-3ac9-485d-c665-8387582eed45"
      },
      "outputs": [
        {
          "output_type": "stream",
          "name": "stdout",
          "text": [
            "Requirement already satisfied: roboflow in /usr/local/lib/python3.10/dist-packages (1.1.30)\n",
            "Requirement already satisfied: certifi==2023.7.22 in /usr/local/lib/python3.10/dist-packages (from roboflow) (2023.7.22)\n",
            "Requirement already satisfied: chardet==4.0.0 in /usr/local/lib/python3.10/dist-packages (from roboflow) (4.0.0)\n",
            "Requirement already satisfied: cycler==0.10.0 in /usr/local/lib/python3.10/dist-packages (from roboflow) (0.10.0)\n",
            "Requirement already satisfied: idna==2.10 in /usr/local/lib/python3.10/dist-packages (from roboflow) (2.10)\n",
            "Requirement already satisfied: kiwisolver>=1.3.1 in /usr/local/lib/python3.10/dist-packages (from roboflow) (1.4.5)\n",
            "Requirement already satisfied: matplotlib in /usr/local/lib/python3.10/dist-packages (from roboflow) (3.7.1)\n",
            "Requirement already satisfied: numpy>=1.18.5 in /usr/local/lib/python3.10/dist-packages (from roboflow) (1.25.2)\n",
            "Requirement already satisfied: opencv-python-headless==4.8.0.74 in /usr/local/lib/python3.10/dist-packages (from roboflow) (4.8.0.74)\n",
            "Requirement already satisfied: Pillow>=7.1.2 in /usr/local/lib/python3.10/dist-packages (from roboflow) (9.4.0)\n",
            "Requirement already satisfied: python-dateutil in /usr/local/lib/python3.10/dist-packages (from roboflow) (2.8.2)\n",
            "Requirement already satisfied: python-dotenv in /usr/local/lib/python3.10/dist-packages (from roboflow) (1.0.1)\n",
            "Requirement already satisfied: requests in /usr/local/lib/python3.10/dist-packages (from roboflow) (2.31.0)\n",
            "Requirement already satisfied: six in /usr/local/lib/python3.10/dist-packages (from roboflow) (1.16.0)\n",
            "Requirement already satisfied: urllib3>=1.26.6 in /usr/local/lib/python3.10/dist-packages (from roboflow) (2.0.7)\n",
            "Requirement already satisfied: tqdm>=4.41.0 in /usr/local/lib/python3.10/dist-packages (from roboflow) (4.66.4)\n",
            "Requirement already satisfied: PyYAML>=5.3.1 in /usr/local/lib/python3.10/dist-packages (from roboflow) (6.0.1)\n",
            "Requirement already satisfied: requests-toolbelt in /usr/local/lib/python3.10/dist-packages (from roboflow) (1.0.0)\n",
            "Requirement already satisfied: python-magic in /usr/local/lib/python3.10/dist-packages (from roboflow) (0.4.27)\n",
            "Requirement already satisfied: contourpy>=1.0.1 in /usr/local/lib/python3.10/dist-packages (from matplotlib->roboflow) (1.2.1)\n",
            "Requirement already satisfied: fonttools>=4.22.0 in /usr/local/lib/python3.10/dist-packages (from matplotlib->roboflow) (4.52.4)\n",
            "Requirement already satisfied: packaging>=20.0 in /usr/local/lib/python3.10/dist-packages (from matplotlib->roboflow) (24.0)\n",
            "Requirement already satisfied: pyparsing>=2.3.1 in /usr/local/lib/python3.10/dist-packages (from matplotlib->roboflow) (3.1.2)\n",
            "Requirement already satisfied: charset-normalizer<4,>=2 in /usr/local/lib/python3.10/dist-packages (from requests->roboflow) (3.3.2)\n",
            "loading Roboflow workspace...\n",
            "loading Roboflow project...\n",
            "[WARNING] we noticed you are downloading a `yolov8` datasets but you don't have `ultralytics` installed. Roboflow `.deploy` supports only models trained with `ultralytics==8.0.196`, to intall it `pip install ultralytics==8.0.196`.\n"
          ]
        }
      ],
      "source": [
        "!pip install roboflow\n",
        "\n",
        "from roboflow import Roboflow\n",
        "rf = Roboflow(api_key=\"noJqG5096rJSkciWMiwA\")\n",
        "project = rf.workspace(\"test-svk7h\").project(\"brain-tumors-detection\")\n",
        "version = project.version(2)\n",
        "dataset = version.download(\"yolov8\")\n"
      ]
    },
    {
      "cell_type": "code",
      "source": [
        "!pip install ultralytics"
      ],
      "metadata": {
        "colab": {
          "base_uri": "https://localhost:8080/"
        },
        "id": "vax3bKSzVJ-e",
        "outputId": "57ef7b1a-b3d6-4f5f-c7e0-47b3a3e03b16"
      },
      "execution_count": 2,
      "outputs": [
        {
          "output_type": "stream",
          "name": "stdout",
          "text": [
            "Collecting ultralytics\n",
            "  Downloading ultralytics-8.2.28-py3-none-any.whl (779 kB)\n",
            "\u001b[2K     \u001b[90m━━━━━━━━━━━━━━━━━━━━━━━━━━━━━━━━━━━━━━━━\u001b[0m \u001b[32m779.6/779.6 kB\u001b[0m \u001b[31m10.4 MB/s\u001b[0m eta \u001b[36m0:00:00\u001b[0m\n",
            "\u001b[?25hRequirement already satisfied: matplotlib>=3.3.0 in /usr/local/lib/python3.10/dist-packages (from ultralytics) (3.7.1)\n",
            "Requirement already satisfied: opencv-python>=4.6.0 in /usr/local/lib/python3.10/dist-packages (from ultralytics) (4.8.0.76)\n",
            "Requirement already satisfied: pillow>=7.1.2 in /usr/local/lib/python3.10/dist-packages (from ultralytics) (9.4.0)\n",
            "Requirement already satisfied: pyyaml>=5.3.1 in /usr/local/lib/python3.10/dist-packages (from ultralytics) (6.0.1)\n",
            "Requirement already satisfied: requests>=2.23.0 in /usr/local/lib/python3.10/dist-packages (from ultralytics) (2.31.0)\n",
            "Requirement already satisfied: scipy>=1.4.1 in /usr/local/lib/python3.10/dist-packages (from ultralytics) (1.11.4)\n",
            "Requirement already satisfied: torch>=1.8.0 in /usr/local/lib/python3.10/dist-packages (from ultralytics) (2.3.0+cu121)\n",
            "Requirement already satisfied: torchvision>=0.9.0 in /usr/local/lib/python3.10/dist-packages (from ultralytics) (0.18.0+cu121)\n",
            "Requirement already satisfied: tqdm>=4.64.0 in /usr/local/lib/python3.10/dist-packages (from ultralytics) (4.66.4)\n",
            "Requirement already satisfied: psutil in /usr/local/lib/python3.10/dist-packages (from ultralytics) (5.9.5)\n",
            "Requirement already satisfied: py-cpuinfo in /usr/local/lib/python3.10/dist-packages (from ultralytics) (9.0.0)\n",
            "Requirement already satisfied: pandas>=1.1.4 in /usr/local/lib/python3.10/dist-packages (from ultralytics) (2.0.3)\n",
            "Requirement already satisfied: seaborn>=0.11.0 in /usr/local/lib/python3.10/dist-packages (from ultralytics) (0.13.1)\n",
            "Collecting ultralytics-thop>=0.2.5 (from ultralytics)\n",
            "  Downloading ultralytics_thop-0.2.7-py3-none-any.whl (25 kB)\n",
            "Requirement already satisfied: contourpy>=1.0.1 in /usr/local/lib/python3.10/dist-packages (from matplotlib>=3.3.0->ultralytics) (1.2.1)\n",
            "Requirement already satisfied: cycler>=0.10 in /usr/local/lib/python3.10/dist-packages (from matplotlib>=3.3.0->ultralytics) (0.10.0)\n",
            "Requirement already satisfied: fonttools>=4.22.0 in /usr/local/lib/python3.10/dist-packages (from matplotlib>=3.3.0->ultralytics) (4.52.4)\n",
            "Requirement already satisfied: kiwisolver>=1.0.1 in /usr/local/lib/python3.10/dist-packages (from matplotlib>=3.3.0->ultralytics) (1.4.5)\n",
            "Requirement already satisfied: numpy>=1.20 in /usr/local/lib/python3.10/dist-packages (from matplotlib>=3.3.0->ultralytics) (1.25.2)\n",
            "Requirement already satisfied: packaging>=20.0 in /usr/local/lib/python3.10/dist-packages (from matplotlib>=3.3.0->ultralytics) (24.0)\n",
            "Requirement already satisfied: pyparsing>=2.3.1 in /usr/local/lib/python3.10/dist-packages (from matplotlib>=3.3.0->ultralytics) (3.1.2)\n",
            "Requirement already satisfied: python-dateutil>=2.7 in /usr/local/lib/python3.10/dist-packages (from matplotlib>=3.3.0->ultralytics) (2.8.2)\n",
            "Requirement already satisfied: pytz>=2020.1 in /usr/local/lib/python3.10/dist-packages (from pandas>=1.1.4->ultralytics) (2023.4)\n",
            "Requirement already satisfied: tzdata>=2022.1 in /usr/local/lib/python3.10/dist-packages (from pandas>=1.1.4->ultralytics) (2024.1)\n",
            "Requirement already satisfied: charset-normalizer<4,>=2 in /usr/local/lib/python3.10/dist-packages (from requests>=2.23.0->ultralytics) (3.3.2)\n",
            "Requirement already satisfied: idna<4,>=2.5 in /usr/local/lib/python3.10/dist-packages (from requests>=2.23.0->ultralytics) (2.10)\n",
            "Requirement already satisfied: urllib3<3,>=1.21.1 in /usr/local/lib/python3.10/dist-packages (from requests>=2.23.0->ultralytics) (2.0.7)\n",
            "Requirement already satisfied: certifi>=2017.4.17 in /usr/local/lib/python3.10/dist-packages (from requests>=2.23.0->ultralytics) (2023.7.22)\n",
            "Requirement already satisfied: filelock in /usr/local/lib/python3.10/dist-packages (from torch>=1.8.0->ultralytics) (3.14.0)\n",
            "Requirement already satisfied: typing-extensions>=4.8.0 in /usr/local/lib/python3.10/dist-packages (from torch>=1.8.0->ultralytics) (4.12.0)\n",
            "Requirement already satisfied: sympy in /usr/local/lib/python3.10/dist-packages (from torch>=1.8.0->ultralytics) (1.12.1)\n",
            "Requirement already satisfied: networkx in /usr/local/lib/python3.10/dist-packages (from torch>=1.8.0->ultralytics) (3.3)\n",
            "Requirement already satisfied: jinja2 in /usr/local/lib/python3.10/dist-packages (from torch>=1.8.0->ultralytics) (3.1.4)\n",
            "Requirement already satisfied: fsspec in /usr/local/lib/python3.10/dist-packages (from torch>=1.8.0->ultralytics) (2023.6.0)\n",
            "Collecting nvidia-cuda-nvrtc-cu12==12.1.105 (from torch>=1.8.0->ultralytics)\n",
            "  Using cached nvidia_cuda_nvrtc_cu12-12.1.105-py3-none-manylinux1_x86_64.whl (23.7 MB)\n",
            "Collecting nvidia-cuda-runtime-cu12==12.1.105 (from torch>=1.8.0->ultralytics)\n",
            "  Using cached nvidia_cuda_runtime_cu12-12.1.105-py3-none-manylinux1_x86_64.whl (823 kB)\n",
            "Collecting nvidia-cuda-cupti-cu12==12.1.105 (from torch>=1.8.0->ultralytics)\n",
            "  Using cached nvidia_cuda_cupti_cu12-12.1.105-py3-none-manylinux1_x86_64.whl (14.1 MB)\n",
            "Collecting nvidia-cudnn-cu12==8.9.2.26 (from torch>=1.8.0->ultralytics)\n",
            "  Using cached nvidia_cudnn_cu12-8.9.2.26-py3-none-manylinux1_x86_64.whl (731.7 MB)\n",
            "Collecting nvidia-cublas-cu12==12.1.3.1 (from torch>=1.8.0->ultralytics)\n",
            "  Using cached nvidia_cublas_cu12-12.1.3.1-py3-none-manylinux1_x86_64.whl (410.6 MB)\n",
            "Collecting nvidia-cufft-cu12==11.0.2.54 (from torch>=1.8.0->ultralytics)\n",
            "  Using cached nvidia_cufft_cu12-11.0.2.54-py3-none-manylinux1_x86_64.whl (121.6 MB)\n",
            "Collecting nvidia-curand-cu12==10.3.2.106 (from torch>=1.8.0->ultralytics)\n",
            "  Using cached nvidia_curand_cu12-10.3.2.106-py3-none-manylinux1_x86_64.whl (56.5 MB)\n",
            "Collecting nvidia-cusolver-cu12==11.4.5.107 (from torch>=1.8.0->ultralytics)\n",
            "  Using cached nvidia_cusolver_cu12-11.4.5.107-py3-none-manylinux1_x86_64.whl (124.2 MB)\n",
            "Collecting nvidia-cusparse-cu12==12.1.0.106 (from torch>=1.8.0->ultralytics)\n",
            "  Using cached nvidia_cusparse_cu12-12.1.0.106-py3-none-manylinux1_x86_64.whl (196.0 MB)\n",
            "Collecting nvidia-nccl-cu12==2.20.5 (from torch>=1.8.0->ultralytics)\n",
            "  Using cached nvidia_nccl_cu12-2.20.5-py3-none-manylinux2014_x86_64.whl (176.2 MB)\n",
            "Collecting nvidia-nvtx-cu12==12.1.105 (from torch>=1.8.0->ultralytics)\n",
            "  Using cached nvidia_nvtx_cu12-12.1.105-py3-none-manylinux1_x86_64.whl (99 kB)\n",
            "Requirement already satisfied: triton==2.3.0 in /usr/local/lib/python3.10/dist-packages (from torch>=1.8.0->ultralytics) (2.3.0)\n",
            "Collecting nvidia-nvjitlink-cu12 (from nvidia-cusolver-cu12==11.4.5.107->torch>=1.8.0->ultralytics)\n",
            "  Downloading nvidia_nvjitlink_cu12-12.5.40-py3-none-manylinux2014_x86_64.whl (21.3 MB)\n",
            "\u001b[2K     \u001b[90m━━━━━━━━━━━━━━━━━━━━━━━━━━━━━━━━━━━━━━━━\u001b[0m \u001b[32m21.3/21.3 MB\u001b[0m \u001b[31m28.2 MB/s\u001b[0m eta \u001b[36m0:00:00\u001b[0m\n",
            "\u001b[?25hRequirement already satisfied: six in /usr/local/lib/python3.10/dist-packages (from cycler>=0.10->matplotlib>=3.3.0->ultralytics) (1.16.0)\n",
            "Requirement already satisfied: MarkupSafe>=2.0 in /usr/local/lib/python3.10/dist-packages (from jinja2->torch>=1.8.0->ultralytics) (2.1.5)\n",
            "Requirement already satisfied: mpmath<1.4.0,>=1.1.0 in /usr/local/lib/python3.10/dist-packages (from sympy->torch>=1.8.0->ultralytics) (1.3.0)\n",
            "Installing collected packages: nvidia-nvtx-cu12, nvidia-nvjitlink-cu12, nvidia-nccl-cu12, nvidia-curand-cu12, nvidia-cufft-cu12, nvidia-cuda-runtime-cu12, nvidia-cuda-nvrtc-cu12, nvidia-cuda-cupti-cu12, nvidia-cublas-cu12, nvidia-cusparse-cu12, nvidia-cudnn-cu12, nvidia-cusolver-cu12, ultralytics-thop, ultralytics\n",
            "Successfully installed nvidia-cublas-cu12-12.1.3.1 nvidia-cuda-cupti-cu12-12.1.105 nvidia-cuda-nvrtc-cu12-12.1.105 nvidia-cuda-runtime-cu12-12.1.105 nvidia-cudnn-cu12-8.9.2.26 nvidia-cufft-cu12-11.0.2.54 nvidia-curand-cu12-10.3.2.106 nvidia-cusolver-cu12-11.4.5.107 nvidia-cusparse-cu12-12.1.0.106 nvidia-nccl-cu12-2.20.5 nvidia-nvjitlink-cu12-12.5.40 nvidia-nvtx-cu12-12.1.105 ultralytics-8.2.28 ultralytics-thop-0.2.7\n"
          ]
        }
      ]
    },
    {
      "cell_type": "code",
      "source": [
        "from google.colab import drive\n",
        "drive.mount('/content/drive')"
      ],
      "metadata": {
        "colab": {
          "base_uri": "https://localhost:8080/"
        },
        "id": "6x5ByZDEVth0",
        "outputId": "9aef8442-ef04-4d7a-fa6d-6d85d4e70823"
      },
      "execution_count": 3,
      "outputs": [
        {
          "output_type": "stream",
          "name": "stdout",
          "text": [
            "Mounted at /content/drive\n"
          ]
        }
      ]
    },
    {
      "cell_type": "code",
      "source": [
        "from ultralytics import YOLO\n",
        "model = YOLO(\"yolov8n.pt\")"
      ],
      "metadata": {
        "id": "ryzTBebrVlDd"
      },
      "execution_count": 5,
      "outputs": []
    },
    {
      "cell_type": "code",
      "source": [
        "model.train(data=\"/content/drive/MyDrive/Tumors/data.yaml\", epochs=10)"
      ],
      "metadata": {
        "colab": {
          "base_uri": "https://localhost:8080/"
        },
        "id": "f4G9C3LvVvI1",
        "outputId": "abe1f82a-6b8a-406b-e35a-0680b3c08def"
      },
      "execution_count": 9,
      "outputs": [
        {
          "output_type": "stream",
          "name": "stdout",
          "text": [
            "Ultralytics YOLOv8.2.28 🚀 Python-3.10.12 torch-2.3.0+cu121 CPU (Intel Xeon 2.20GHz)\n",
            "\u001b[34m\u001b[1mengine/trainer: \u001b[0mtask=detect, mode=train, model=yolov8n.pt, data=/content/drive/MyDrive/Tumors/data.yaml, epochs=10, time=None, patience=100, batch=16, imgsz=640, save=True, save_period=-1, cache=False, device=None, workers=8, project=None, name=train5, exist_ok=False, pretrained=True, optimizer=auto, verbose=True, seed=0, deterministic=True, single_cls=False, rect=False, cos_lr=False, close_mosaic=10, resume=False, amp=True, fraction=1.0, profile=False, freeze=None, multi_scale=False, overlap_mask=True, mask_ratio=4, dropout=0.0, val=True, split=val, save_json=False, save_hybrid=False, conf=None, iou=0.7, max_det=300, half=False, dnn=False, plots=True, source=None, vid_stride=1, stream_buffer=False, visualize=False, augment=False, agnostic_nms=False, classes=None, retina_masks=False, embed=None, show=False, save_frames=False, save_txt=False, save_conf=False, save_crop=False, show_labels=True, show_conf=True, show_boxes=True, line_width=None, format=torchscript, keras=False, optimize=False, int8=False, dynamic=False, simplify=False, opset=None, workspace=4, nms=False, lr0=0.01, lrf=0.01, momentum=0.937, weight_decay=0.0005, warmup_epochs=3.0, warmup_momentum=0.8, warmup_bias_lr=0.1, box=7.5, cls=0.5, dfl=1.5, pose=12.0, kobj=1.0, label_smoothing=0.0, nbs=64, hsv_h=0.015, hsv_s=0.7, hsv_v=0.4, degrees=0.0, translate=0.1, scale=0.5, shear=0.0, perspective=0.0, flipud=0.0, fliplr=0.5, bgr=0.0, mosaic=1.0, mixup=0.0, copy_paste=0.0, auto_augment=randaugment, erasing=0.4, crop_fraction=1.0, cfg=None, tracker=botsort.yaml, save_dir=runs/detect/train5\n",
            "\n",
            "                   from  n    params  module                                       arguments                     \n",
            "  0                  -1  1       464  ultralytics.nn.modules.conv.Conv             [3, 16, 3, 2]                 \n",
            "  1                  -1  1      4672  ultralytics.nn.modules.conv.Conv             [16, 32, 3, 2]                \n",
            "  2                  -1  1      7360  ultralytics.nn.modules.block.C2f             [32, 32, 1, True]             \n",
            "  3                  -1  1     18560  ultralytics.nn.modules.conv.Conv             [32, 64, 3, 2]                \n",
            "  4                  -1  2     49664  ultralytics.nn.modules.block.C2f             [64, 64, 2, True]             \n",
            "  5                  -1  1     73984  ultralytics.nn.modules.conv.Conv             [64, 128, 3, 2]               \n",
            "  6                  -1  2    197632  ultralytics.nn.modules.block.C2f             [128, 128, 2, True]           \n",
            "  7                  -1  1    295424  ultralytics.nn.modules.conv.Conv             [128, 256, 3, 2]              \n",
            "  8                  -1  1    460288  ultralytics.nn.modules.block.C2f             [256, 256, 1, True]           \n",
            "  9                  -1  1    164608  ultralytics.nn.modules.block.SPPF            [256, 256, 5]                 \n",
            " 10                  -1  1         0  torch.nn.modules.upsampling.Upsample         [None, 2, 'nearest']          \n",
            " 11             [-1, 6]  1         0  ultralytics.nn.modules.conv.Concat           [1]                           \n",
            " 12                  -1  1    148224  ultralytics.nn.modules.block.C2f             [384, 128, 1]                 \n",
            " 13                  -1  1         0  torch.nn.modules.upsampling.Upsample         [None, 2, 'nearest']          \n",
            " 14             [-1, 4]  1         0  ultralytics.nn.modules.conv.Concat           [1]                           \n",
            " 15                  -1  1     37248  ultralytics.nn.modules.block.C2f             [192, 64, 1]                  \n",
            " 16                  -1  1     36992  ultralytics.nn.modules.conv.Conv             [64, 64, 3, 2]                \n",
            " 17            [-1, 12]  1         0  ultralytics.nn.modules.conv.Concat           [1]                           \n",
            " 18                  -1  1    123648  ultralytics.nn.modules.block.C2f             [192, 128, 1]                 \n",
            " 19                  -1  1    147712  ultralytics.nn.modules.conv.Conv             [128, 128, 3, 2]              \n",
            " 20             [-1, 9]  1         0  ultralytics.nn.modules.conv.Concat           [1]                           \n",
            " 21                  -1  1    493056  ultralytics.nn.modules.block.C2f             [384, 256, 1]                 \n",
            " 22        [15, 18, 21]  1    751507  ultralytics.nn.modules.head.Detect           [1, [64, 128, 256]]           \n",
            "Model summary: 225 layers, 3011043 parameters, 3011027 gradients, 8.2 GFLOPs\n",
            "\n",
            "Transferred 355/355 items from pretrained weights\n",
            "\u001b[34m\u001b[1mTensorBoard: \u001b[0mStart with 'tensorboard --logdir runs/detect/train5', view at http://localhost:6006/\n",
            "Freezing layer 'model.22.dfl.conv.weight'\n"
          ]
        },
        {
          "output_type": "stream",
          "name": "stderr",
          "text": [
            "\u001b[34m\u001b[1mtrain: \u001b[0mScanning /content/drive/MyDrive/Tumors/train/labels.cache... 500 images, 0 backgrounds, 0 corrupt: 100%|██████████| 500/500 [00:00<?, ?it/s]"
          ]
        },
        {
          "output_type": "stream",
          "name": "stdout",
          "text": [
            "\u001b[34m\u001b[1malbumentations: \u001b[0mBlur(p=0.01, blur_limit=(3, 7)), MedianBlur(p=0.01, blur_limit=(3, 7)), ToGray(p=0.01), CLAHE(p=0.01, clip_limit=(1, 4.0), tile_grid_size=(8, 8))\n"
          ]
        },
        {
          "output_type": "stream",
          "name": "stderr",
          "text": [
            "\n",
            "\u001b[34m\u001b[1mval: \u001b[0mScanning /content/drive/MyDrive/Tumors/valid/labels.cache... 201 images, 0 backgrounds, 0 corrupt: 100%|██████████| 201/201 [00:00<?, ?it/s]\n"
          ]
        },
        {
          "output_type": "stream",
          "name": "stdout",
          "text": [
            "Plotting labels to runs/detect/train5/labels.jpg... \n",
            "\u001b[34m\u001b[1moptimizer:\u001b[0m 'optimizer=auto' found, ignoring 'lr0=0.01' and 'momentum=0.937' and determining best 'optimizer', 'lr0' and 'momentum' automatically... \n",
            "\u001b[34m\u001b[1moptimizer:\u001b[0m AdamW(lr=0.002, momentum=0.9) with parameter groups 57 weight(decay=0.0), 64 weight(decay=0.0005), 63 bias(decay=0.0)\n",
            "\u001b[34m\u001b[1mTensorBoard: \u001b[0mmodel graph visualization added ✅\n",
            "Image sizes 640 train, 640 val\n",
            "Using 0 dataloader workers\n",
            "Logging results to \u001b[1mruns/detect/train5\u001b[0m\n",
            "Starting training for 10 epochs...\n",
            "Closing dataloader mosaic\n",
            "\u001b[34m\u001b[1malbumentations: \u001b[0mBlur(p=0.01, blur_limit=(3, 7)), MedianBlur(p=0.01, blur_limit=(3, 7)), ToGray(p=0.01), CLAHE(p=0.01, clip_limit=(1, 4.0), tile_grid_size=(8, 8))\n",
            "\n",
            "      Epoch    GPU_mem   box_loss   cls_loss   dfl_loss  Instances       Size\n"
          ]
        },
        {
          "output_type": "stream",
          "name": "stderr",
          "text": [
            "       1/10         0G      1.054       1.96      1.201          4        640: 100%|██████████| 32/32 [07:50<00:00, 14.70s/it]\n",
            "                 Class     Images  Instances      Box(P          R      mAP50  mAP50-95): 100%|██████████| 7/7 [01:10<00:00, 10.07s/it]"
          ]
        },
        {
          "output_type": "stream",
          "name": "stdout",
          "text": [
            "                   all        201        241      0.927      0.528      0.754      0.502\n"
          ]
        },
        {
          "output_type": "stream",
          "name": "stderr",
          "text": [
            "\n"
          ]
        },
        {
          "output_type": "stream",
          "name": "stdout",
          "text": [
            "\n",
            "      Epoch    GPU_mem   box_loss   cls_loss   dfl_loss  Instances       Size\n"
          ]
        },
        {
          "output_type": "stream",
          "name": "stderr",
          "text": [
            "       2/10         0G      1.064      1.836      1.227          4        640: 100%|██████████| 32/32 [07:51<00:00, 14.74s/it]\n",
            "                 Class     Images  Instances      Box(P          R      mAP50  mAP50-95): 100%|██████████| 7/7 [01:11<00:00, 10.22s/it]"
          ]
        },
        {
          "output_type": "stream",
          "name": "stdout",
          "text": [
            "                   all        201        241      0.735      0.609      0.682      0.425\n"
          ]
        },
        {
          "output_type": "stream",
          "name": "stderr",
          "text": [
            "\n"
          ]
        },
        {
          "output_type": "stream",
          "name": "stdout",
          "text": [
            "\n",
            "      Epoch    GPU_mem   box_loss   cls_loss   dfl_loss  Instances       Size\n"
          ]
        },
        {
          "output_type": "stream",
          "name": "stderr",
          "text": [
            "       3/10         0G      1.131      1.675      1.218          6        640: 100%|██████████| 32/32 [07:44<00:00, 14.53s/it]\n",
            "                 Class     Images  Instances      Box(P          R      mAP50  mAP50-95): 100%|██████████| 7/7 [01:12<00:00, 10.29s/it]"
          ]
        },
        {
          "output_type": "stream",
          "name": "stdout",
          "text": [
            "                   all        201        241        0.4      0.274      0.273      0.161\n"
          ]
        },
        {
          "output_type": "stream",
          "name": "stderr",
          "text": [
            "\n"
          ]
        },
        {
          "output_type": "stream",
          "name": "stdout",
          "text": [
            "\n",
            "      Epoch    GPU_mem   box_loss   cls_loss   dfl_loss  Instances       Size\n"
          ]
        },
        {
          "output_type": "stream",
          "name": "stderr",
          "text": [
            "       4/10         0G      1.131      1.533      1.219          6        640: 100%|██████████| 32/32 [07:40<00:00, 14.39s/it]\n",
            "                 Class     Images  Instances      Box(P          R      mAP50  mAP50-95): 100%|██████████| 7/7 [01:16<00:00, 10.93s/it]"
          ]
        },
        {
          "output_type": "stream",
          "name": "stdout",
          "text": [
            "                   all        201        241      0.525      0.321      0.352      0.197\n"
          ]
        },
        {
          "output_type": "stream",
          "name": "stderr",
          "text": [
            "\n"
          ]
        },
        {
          "output_type": "stream",
          "name": "stdout",
          "text": [
            "\n",
            "      Epoch    GPU_mem   box_loss   cls_loss   dfl_loss  Instances       Size\n"
          ]
        },
        {
          "output_type": "stream",
          "name": "stderr",
          "text": [
            "       5/10         0G      1.042      1.371      1.165          4        640: 100%|██████████| 32/32 [08:07<00:00, 15.22s/it]\n",
            "                 Class     Images  Instances      Box(P          R      mAP50  mAP50-95): 100%|██████████| 7/7 [01:13<00:00, 10.52s/it]"
          ]
        },
        {
          "output_type": "stream",
          "name": "stdout",
          "text": [
            "                   all        201        241       0.86      0.768      0.846      0.559\n"
          ]
        },
        {
          "output_type": "stream",
          "name": "stderr",
          "text": [
            "\n"
          ]
        },
        {
          "output_type": "stream",
          "name": "stdout",
          "text": [
            "\n",
            "      Epoch    GPU_mem   box_loss   cls_loss   dfl_loss  Instances       Size\n"
          ]
        },
        {
          "output_type": "stream",
          "name": "stderr",
          "text": [
            "       6/10         0G      1.045       1.21      1.156          4        640: 100%|██████████| 32/32 [07:51<00:00, 14.72s/it]\n",
            "                 Class     Images  Instances      Box(P          R      mAP50  mAP50-95): 100%|██████████| 7/7 [01:12<00:00, 10.29s/it]"
          ]
        },
        {
          "output_type": "stream",
          "name": "stdout",
          "text": [
            "                   all        201        241      0.898      0.768      0.839      0.554\n"
          ]
        },
        {
          "output_type": "stream",
          "name": "stderr",
          "text": [
            "\n"
          ]
        },
        {
          "output_type": "stream",
          "name": "stdout",
          "text": [
            "\n",
            "      Epoch    GPU_mem   box_loss   cls_loss   dfl_loss  Instances       Size\n"
          ]
        },
        {
          "output_type": "stream",
          "name": "stderr",
          "text": [
            "       7/10         0G      1.001      1.113      1.145          4        640: 100%|██████████| 32/32 [07:43<00:00, 14.49s/it]\n",
            "                 Class     Images  Instances      Box(P          R      mAP50  mAP50-95): 100%|██████████| 7/7 [01:14<00:00, 10.64s/it]"
          ]
        },
        {
          "output_type": "stream",
          "name": "stdout",
          "text": [
            "                   all        201        241      0.897      0.842      0.898      0.615\n"
          ]
        },
        {
          "output_type": "stream",
          "name": "stderr",
          "text": [
            "\n"
          ]
        },
        {
          "output_type": "stream",
          "name": "stdout",
          "text": [
            "\n",
            "      Epoch    GPU_mem   box_loss   cls_loss   dfl_loss  Instances       Size\n"
          ]
        },
        {
          "output_type": "stream",
          "name": "stderr",
          "text": [
            "       8/10         0G     0.9986      1.009      1.117          4        640: 100%|██████████| 32/32 [07:41<00:00, 14.43s/it]\n",
            "                 Class     Images  Instances      Box(P          R      mAP50  mAP50-95): 100%|██████████| 7/7 [01:10<00:00, 10.04s/it]"
          ]
        },
        {
          "output_type": "stream",
          "name": "stdout",
          "text": [
            "                   all        201        241      0.965      0.794      0.887      0.608\n"
          ]
        },
        {
          "output_type": "stream",
          "name": "stderr",
          "text": [
            "\n"
          ]
        },
        {
          "output_type": "stream",
          "name": "stdout",
          "text": [
            "\n",
            "      Epoch    GPU_mem   box_loss   cls_loss   dfl_loss  Instances       Size\n"
          ]
        },
        {
          "output_type": "stream",
          "name": "stderr",
          "text": [
            "       9/10         0G     0.9388     0.9607      1.082          5        640: 100%|██████████| 32/32 [07:45<00:00, 14.55s/it]\n",
            "                 Class     Images  Instances      Box(P          R      mAP50  mAP50-95): 100%|██████████| 7/7 [01:12<00:00, 10.35s/it]"
          ]
        },
        {
          "output_type": "stream",
          "name": "stdout",
          "text": [
            "                   all        201        241      0.912      0.846       0.91      0.635\n"
          ]
        },
        {
          "output_type": "stream",
          "name": "stderr",
          "text": [
            "\n"
          ]
        },
        {
          "output_type": "stream",
          "name": "stdout",
          "text": [
            "\n",
            "      Epoch    GPU_mem   box_loss   cls_loss   dfl_loss  Instances       Size\n"
          ]
        },
        {
          "output_type": "stream",
          "name": "stderr",
          "text": [
            "      10/10         0G     0.9043     0.8848      1.069          4        640: 100%|██████████| 32/32 [07:43<00:00, 14.48s/it]\n",
            "                 Class     Images  Instances      Box(P          R      mAP50  mAP50-95): 100%|██████████| 7/7 [01:11<00:00, 10.24s/it]"
          ]
        },
        {
          "output_type": "stream",
          "name": "stdout",
          "text": [
            "                   all        201        241      0.947      0.823      0.927      0.663\n"
          ]
        },
        {
          "output_type": "stream",
          "name": "stderr",
          "text": [
            "\n"
          ]
        },
        {
          "output_type": "stream",
          "name": "stdout",
          "text": [
            "\n",
            "10 epochs completed in 1.506 hours.\n",
            "Optimizer stripped from runs/detect/train5/weights/last.pt, 6.2MB\n",
            "Optimizer stripped from runs/detect/train5/weights/best.pt, 6.2MB\n",
            "\n",
            "Validating runs/detect/train5/weights/best.pt...\n",
            "Ultralytics YOLOv8.2.28 🚀 Python-3.10.12 torch-2.3.0+cu121 CPU (Intel Xeon 2.20GHz)\n",
            "Model summary (fused): 168 layers, 3005843 parameters, 0 gradients, 8.1 GFLOPs\n"
          ]
        },
        {
          "output_type": "stream",
          "name": "stderr",
          "text": [
            "                 Class     Images  Instances      Box(P          R      mAP50  mAP50-95): 100%|██████████| 7/7 [01:07<00:00,  9.61s/it]\n"
          ]
        },
        {
          "output_type": "stream",
          "name": "stdout",
          "text": [
            "                   all        201        241      0.947      0.823      0.927      0.663\n",
            "Speed: 8.5ms preprocess, 296.6ms inference, 0.0ms loss, 0.9ms postprocess per image\n",
            "Results saved to \u001b[1mruns/detect/train5\u001b[0m\n"
          ]
        },
        {
          "output_type": "execute_result",
          "data": {
            "text/plain": [
              "ultralytics.utils.metrics.DetMetrics object with attributes:\n",
              "\n",
              "ap_class_index: array([0])\n",
              "box: ultralytics.utils.metrics.Metric object\n",
              "confusion_matrix: <ultralytics.utils.metrics.ConfusionMatrix object at 0x7ddc33e3e8f0>\n",
              "curves: ['Precision-Recall(B)', 'F1-Confidence(B)', 'Precision-Confidence(B)', 'Recall-Confidence(B)']\n",
              "curves_results: [[array([          0,    0.001001,    0.002002,    0.003003,    0.004004,    0.005005,    0.006006,    0.007007,    0.008008,    0.009009,     0.01001,    0.011011,    0.012012,    0.013013,    0.014014,    0.015015,    0.016016,    0.017017,    0.018018,    0.019019,     0.02002,    0.021021,    0.022022,    0.023023,\n",
              "          0.024024,    0.025025,    0.026026,    0.027027,    0.028028,    0.029029,     0.03003,    0.031031,    0.032032,    0.033033,    0.034034,    0.035035,    0.036036,    0.037037,    0.038038,    0.039039,     0.04004,    0.041041,    0.042042,    0.043043,    0.044044,    0.045045,    0.046046,    0.047047,\n",
              "          0.048048,    0.049049,     0.05005,    0.051051,    0.052052,    0.053053,    0.054054,    0.055055,    0.056056,    0.057057,    0.058058,    0.059059,     0.06006,    0.061061,    0.062062,    0.063063,    0.064064,    0.065065,    0.066066,    0.067067,    0.068068,    0.069069,     0.07007,    0.071071,\n",
              "          0.072072,    0.073073,    0.074074,    0.075075,    0.076076,    0.077077,    0.078078,    0.079079,     0.08008,    0.081081,    0.082082,    0.083083,    0.084084,    0.085085,    0.086086,    0.087087,    0.088088,    0.089089,     0.09009,    0.091091,    0.092092,    0.093093,    0.094094,    0.095095,\n",
              "          0.096096,    0.097097,    0.098098,    0.099099,      0.1001,      0.1011,      0.1021,      0.1031,      0.1041,     0.10511,     0.10611,     0.10711,     0.10811,     0.10911,     0.11011,     0.11111,     0.11211,     0.11311,     0.11411,     0.11512,     0.11612,     0.11712,     0.11812,     0.11912,\n",
              "           0.12012,     0.12112,     0.12212,     0.12312,     0.12412,     0.12513,     0.12613,     0.12713,     0.12813,     0.12913,     0.13013,     0.13113,     0.13213,     0.13313,     0.13413,     0.13514,     0.13614,     0.13714,     0.13814,     0.13914,     0.14014,     0.14114,     0.14214,     0.14314,\n",
              "           0.14414,     0.14515,     0.14615,     0.14715,     0.14815,     0.14915,     0.15015,     0.15115,     0.15215,     0.15315,     0.15415,     0.15516,     0.15616,     0.15716,     0.15816,     0.15916,     0.16016,     0.16116,     0.16216,     0.16316,     0.16416,     0.16517,     0.16617,     0.16717,\n",
              "           0.16817,     0.16917,     0.17017,     0.17117,     0.17217,     0.17317,     0.17417,     0.17518,     0.17618,     0.17718,     0.17818,     0.17918,     0.18018,     0.18118,     0.18218,     0.18318,     0.18418,     0.18519,     0.18619,     0.18719,     0.18819,     0.18919,     0.19019,     0.19119,\n",
              "           0.19219,     0.19319,     0.19419,      0.1952,      0.1962,      0.1972,      0.1982,      0.1992,      0.2002,      0.2012,      0.2022,      0.2032,      0.2042,     0.20521,     0.20621,     0.20721,     0.20821,     0.20921,     0.21021,     0.21121,     0.21221,     0.21321,     0.21421,     0.21522,\n",
              "           0.21622,     0.21722,     0.21822,     0.21922,     0.22022,     0.22122,     0.22222,     0.22322,     0.22422,     0.22523,     0.22623,     0.22723,     0.22823,     0.22923,     0.23023,     0.23123,     0.23223,     0.23323,     0.23423,     0.23524,     0.23624,     0.23724,     0.23824,     0.23924,\n",
              "           0.24024,     0.24124,     0.24224,     0.24324,     0.24424,     0.24525,     0.24625,     0.24725,     0.24825,     0.24925,     0.25025,     0.25125,     0.25225,     0.25325,     0.25425,     0.25526,     0.25626,     0.25726,     0.25826,     0.25926,     0.26026,     0.26126,     0.26226,     0.26326,\n",
              "           0.26426,     0.26527,     0.26627,     0.26727,     0.26827,     0.26927,     0.27027,     0.27127,     0.27227,     0.27327,     0.27427,     0.27528,     0.27628,     0.27728,     0.27828,     0.27928,     0.28028,     0.28128,     0.28228,     0.28328,     0.28428,     0.28529,     0.28629,     0.28729,\n",
              "           0.28829,     0.28929,     0.29029,     0.29129,     0.29229,     0.29329,     0.29429,      0.2953,      0.2963,      0.2973,      0.2983,      0.2993,      0.3003,      0.3013,      0.3023,      0.3033,      0.3043,     0.30531,     0.30631,     0.30731,     0.30831,     0.30931,     0.31031,     0.31131,\n",
              "           0.31231,     0.31331,     0.31431,     0.31532,     0.31632,     0.31732,     0.31832,     0.31932,     0.32032,     0.32132,     0.32232,     0.32332,     0.32432,     0.32533,     0.32633,     0.32733,     0.32833,     0.32933,     0.33033,     0.33133,     0.33233,     0.33333,     0.33433,     0.33534,\n",
              "           0.33634,     0.33734,     0.33834,     0.33934,     0.34034,     0.34134,     0.34234,     0.34334,     0.34434,     0.34535,     0.34635,     0.34735,     0.34835,     0.34935,     0.35035,     0.35135,     0.35235,     0.35335,     0.35435,     0.35536,     0.35636,     0.35736,     0.35836,     0.35936,\n",
              "           0.36036,     0.36136,     0.36236,     0.36336,     0.36436,     0.36537,     0.36637,     0.36737,     0.36837,     0.36937,     0.37037,     0.37137,     0.37237,     0.37337,     0.37437,     0.37538,     0.37638,     0.37738,     0.37838,     0.37938,     0.38038,     0.38138,     0.38238,     0.38338,\n",
              "           0.38438,     0.38539,     0.38639,     0.38739,     0.38839,     0.38939,     0.39039,     0.39139,     0.39239,     0.39339,     0.39439,      0.3954,      0.3964,      0.3974,      0.3984,      0.3994,      0.4004,      0.4014,      0.4024,      0.4034,      0.4044,     0.40541,     0.40641,     0.40741,\n",
              "           0.40841,     0.40941,     0.41041,     0.41141,     0.41241,     0.41341,     0.41441,     0.41542,     0.41642,     0.41742,     0.41842,     0.41942,     0.42042,     0.42142,     0.42242,     0.42342,     0.42442,     0.42543,     0.42643,     0.42743,     0.42843,     0.42943,     0.43043,     0.43143,\n",
              "           0.43243,     0.43343,     0.43443,     0.43544,     0.43644,     0.43744,     0.43844,     0.43944,     0.44044,     0.44144,     0.44244,     0.44344,     0.44444,     0.44545,     0.44645,     0.44745,     0.44845,     0.44945,     0.45045,     0.45145,     0.45245,     0.45345,     0.45445,     0.45546,\n",
              "           0.45646,     0.45746,     0.45846,     0.45946,     0.46046,     0.46146,     0.46246,     0.46346,     0.46446,     0.46547,     0.46647,     0.46747,     0.46847,     0.46947,     0.47047,     0.47147,     0.47247,     0.47347,     0.47447,     0.47548,     0.47648,     0.47748,     0.47848,     0.47948,\n",
              "           0.48048,     0.48148,     0.48248,     0.48348,     0.48448,     0.48549,     0.48649,     0.48749,     0.48849,     0.48949,     0.49049,     0.49149,     0.49249,     0.49349,     0.49449,      0.4955,      0.4965,      0.4975,      0.4985,      0.4995,      0.5005,      0.5015,      0.5025,      0.5035,\n",
              "            0.5045,     0.50551,     0.50651,     0.50751,     0.50851,     0.50951,     0.51051,     0.51151,     0.51251,     0.51351,     0.51451,     0.51552,     0.51652,     0.51752,     0.51852,     0.51952,     0.52052,     0.52152,     0.52252,     0.52352,     0.52452,     0.52553,     0.52653,     0.52753,\n",
              "           0.52853,     0.52953,     0.53053,     0.53153,     0.53253,     0.53353,     0.53453,     0.53554,     0.53654,     0.53754,     0.53854,     0.53954,     0.54054,     0.54154,     0.54254,     0.54354,     0.54454,     0.54555,     0.54655,     0.54755,     0.54855,     0.54955,     0.55055,     0.55155,\n",
              "           0.55255,     0.55355,     0.55455,     0.55556,     0.55656,     0.55756,     0.55856,     0.55956,     0.56056,     0.56156,     0.56256,     0.56356,     0.56456,     0.56557,     0.56657,     0.56757,     0.56857,     0.56957,     0.57057,     0.57157,     0.57257,     0.57357,     0.57457,     0.57558,\n",
              "           0.57658,     0.57758,     0.57858,     0.57958,     0.58058,     0.58158,     0.58258,     0.58358,     0.58458,     0.58559,     0.58659,     0.58759,     0.58859,     0.58959,     0.59059,     0.59159,     0.59259,     0.59359,     0.59459,      0.5956,      0.5966,      0.5976,      0.5986,      0.5996,\n",
              "            0.6006,      0.6016,      0.6026,      0.6036,      0.6046,     0.60561,     0.60661,     0.60761,     0.60861,     0.60961,     0.61061,     0.61161,     0.61261,     0.61361,     0.61461,     0.61562,     0.61662,     0.61762,     0.61862,     0.61962,     0.62062,     0.62162,     0.62262,     0.62362,\n",
              "           0.62462,     0.62563,     0.62663,     0.62763,     0.62863,     0.62963,     0.63063,     0.63163,     0.63263,     0.63363,     0.63463,     0.63564,     0.63664,     0.63764,     0.63864,     0.63964,     0.64064,     0.64164,     0.64264,     0.64364,     0.64464,     0.64565,     0.64665,     0.64765,\n",
              "           0.64865,     0.64965,     0.65065,     0.65165,     0.65265,     0.65365,     0.65465,     0.65566,     0.65666,     0.65766,     0.65866,     0.65966,     0.66066,     0.66166,     0.66266,     0.66366,     0.66466,     0.66567,     0.66667,     0.66767,     0.66867,     0.66967,     0.67067,     0.67167,\n",
              "           0.67267,     0.67367,     0.67467,     0.67568,     0.67668,     0.67768,     0.67868,     0.67968,     0.68068,     0.68168,     0.68268,     0.68368,     0.68468,     0.68569,     0.68669,     0.68769,     0.68869,     0.68969,     0.69069,     0.69169,     0.69269,     0.69369,     0.69469,      0.6957,\n",
              "            0.6967,      0.6977,      0.6987,      0.6997,      0.7007,      0.7017,      0.7027,      0.7037,      0.7047,     0.70571,     0.70671,     0.70771,     0.70871,     0.70971,     0.71071,     0.71171,     0.71271,     0.71371,     0.71471,     0.71572,     0.71672,     0.71772,     0.71872,     0.71972,\n",
              "           0.72072,     0.72172,     0.72272,     0.72372,     0.72472,     0.72573,     0.72673,     0.72773,     0.72873,     0.72973,     0.73073,     0.73173,     0.73273,     0.73373,     0.73473,     0.73574,     0.73674,     0.73774,     0.73874,     0.73974,     0.74074,     0.74174,     0.74274,     0.74374,\n",
              "           0.74474,     0.74575,     0.74675,     0.74775,     0.74875,     0.74975,     0.75075,     0.75175,     0.75275,     0.75375,     0.75475,     0.75576,     0.75676,     0.75776,     0.75876,     0.75976,     0.76076,     0.76176,     0.76276,     0.76376,     0.76476,     0.76577,     0.76677,     0.76777,\n",
              "           0.76877,     0.76977,     0.77077,     0.77177,     0.77277,     0.77377,     0.77477,     0.77578,     0.77678,     0.77778,     0.77878,     0.77978,     0.78078,     0.78178,     0.78278,     0.78378,     0.78478,     0.78579,     0.78679,     0.78779,     0.78879,     0.78979,     0.79079,     0.79179,\n",
              "           0.79279,     0.79379,     0.79479,      0.7958,      0.7968,      0.7978,      0.7988,      0.7998,      0.8008,      0.8018,      0.8028,      0.8038,      0.8048,     0.80581,     0.80681,     0.80781,     0.80881,     0.80981,     0.81081,     0.81181,     0.81281,     0.81381,     0.81481,     0.81582,\n",
              "           0.81682,     0.81782,     0.81882,     0.81982,     0.82082,     0.82182,     0.82282,     0.82382,     0.82482,     0.82583,     0.82683,     0.82783,     0.82883,     0.82983,     0.83083,     0.83183,     0.83283,     0.83383,     0.83483,     0.83584,     0.83684,     0.83784,     0.83884,     0.83984,\n",
              "           0.84084,     0.84184,     0.84284,     0.84384,     0.84484,     0.84585,     0.84685,     0.84785,     0.84885,     0.84985,     0.85085,     0.85185,     0.85285,     0.85385,     0.85485,     0.85586,     0.85686,     0.85786,     0.85886,     0.85986,     0.86086,     0.86186,     0.86286,     0.86386,\n",
              "           0.86486,     0.86587,     0.86687,     0.86787,     0.86887,     0.86987,     0.87087,     0.87187,     0.87287,     0.87387,     0.87487,     0.87588,     0.87688,     0.87788,     0.87888,     0.87988,     0.88088,     0.88188,     0.88288,     0.88388,     0.88488,     0.88589,     0.88689,     0.88789,\n",
              "           0.88889,     0.88989,     0.89089,     0.89189,     0.89289,     0.89389,     0.89489,      0.8959,      0.8969,      0.8979,      0.8989,      0.8999,      0.9009,      0.9019,      0.9029,      0.9039,      0.9049,     0.90591,     0.90691,     0.90791,     0.90891,     0.90991,     0.91091,     0.91191,\n",
              "           0.91291,     0.91391,     0.91491,     0.91592,     0.91692,     0.91792,     0.91892,     0.91992,     0.92092,     0.92192,     0.92292,     0.92392,     0.92492,     0.92593,     0.92693,     0.92793,     0.92893,     0.92993,     0.93093,     0.93193,     0.93293,     0.93393,     0.93493,     0.93594,\n",
              "           0.93694,     0.93794,     0.93894,     0.93994,     0.94094,     0.94194,     0.94294,     0.94394,     0.94494,     0.94595,     0.94695,     0.94795,     0.94895,     0.94995,     0.95095,     0.95195,     0.95295,     0.95395,     0.95495,     0.95596,     0.95696,     0.95796,     0.95896,     0.95996,\n",
              "           0.96096,     0.96196,     0.96296,     0.96396,     0.96496,     0.96597,     0.96697,     0.96797,     0.96897,     0.96997,     0.97097,     0.97197,     0.97297,     0.97397,     0.97497,     0.97598,     0.97698,     0.97798,     0.97898,     0.97998,     0.98098,     0.98198,     0.98298,     0.98398,\n",
              "           0.98498,     0.98599,     0.98699,     0.98799,     0.98899,     0.98999,     0.99099,     0.99199,     0.99299,     0.99399,     0.99499,       0.996,       0.997,       0.998,       0.999,           1]), array([[          1,           1,           1,           1,           1,           1,           1,           1,           1,           1,           1,           1,           1,           1,           1,           1,           1,           1,           1,           1,           1,           1,           1,\n",
              "                  1,           1,           1,           1,           1,           1,           1,           1,           1,           1,           1,           1,           1,           1,           1,           1,           1,           1,           1,           1,           1,           1,           1,\n",
              "                  1,           1,           1,           1,           1,           1,           1,           1,           1,           1,           1,           1,           1,           1,           1,           1,           1,           1,           1,           1,           1,           1,           1,\n",
              "                  1,           1,           1,           1,           1,           1,           1,           1,           1,           1,           1,           1,           1,           1,           1,           1,           1,           1,           1,           1,           1,           1,           1,\n",
              "                  1,           1,           1,           1,           1,           1,           1,           1,           1,           1,           1,           1,           1,           1,           1,           1,           1,           1,           1,           1,           1,           1,           1,\n",
              "                  1,           1,           1,           1,           1,           1,           1,           1,           1,           1,           1,           1,           1,           1,           1,           1,           1,           1,           1,           1,           1,           1,           1,\n",
              "                  1,           1,           1,           1,           1,           1,           1,           1,           1,           1,           1,           1,           1,           1,           1,           1,           1,           1,           1,           1,           1,           1,           1,\n",
              "                  1,           1,           1,           1,           1,           1,           1,           1,           1,           1,           1,           1,           1,           1,           1,           1,           1,           1,           1,           1,           1,           1,           1,\n",
              "                  1,           1,           1,           1,           1,           1,           1,           1,           1,           1,           1,           1,           1,           1,           1,           1,           1,           1,           1,           1,           1,           1,           1,\n",
              "                  1,           1,           1,           1,           1,           1,           1,           1,           1,           1,           1,           1,           1,           1,           1,           1,           1,           1,           1,           1,           1,           1,           1,\n",
              "                  1,           1,           1,           1,           1,           1,           1,           1,           1,           1,           1,           1,           1,           1,           1,           1,           1,           1,           1,           1,           1,           1,           1,\n",
              "                  1,           1,           1,           1,           1,           1,           1,           1,           1,           1,           1,           1,           1,           1,           1,           1,           1,           1,           1,           1,           1,           1,           1,\n",
              "                  1,           1,           1,           1,           1,           1,           1,           1,           1,           1,           1,           1,           1,           1,           1,           1,           1,           1,           1,           1,           1,           1,           1,\n",
              "                  1,           1,           1,           1,           1,           1,           1,           1,           1,           1,           1,           1,           1,           1,           1,           1,           1,           1,           1,           1,           1,           1,           1,\n",
              "                  1,           1,           1,           1,           1,           1,           1,           1,           1,           1,           1,           1,           1,           1,           1,           1,           1,           1,           1,           1,           1,           1,           1,\n",
              "                  1,           1,           1,           1,           1,           1,           1,           1,           1,           1,           1,           1,           1,           1,           1,           1,           1,           1,           1,           1,           1,           1,           1,\n",
              "                  1,           1,           1,           1,           1,           1,           1,           1,           1,           1,           1,           1,           1,           1,           1,           1,           1,           1,           1,           1,           1,           1,           1,\n",
              "                  1,           1,           1,           1,           1,           1,           1,           1,           1,           1,           1,           1,           1,           1,           1,           1,           1,           1,           1,           1,           1,           1,           1,\n",
              "                  1,           1,           1,           1,           1,           1,           1,           1,           1,           1,           1,           1,           1,           1,           1,           1,           1,           1,           1,           1,           1,           1,           1,\n",
              "                  1,           1,           1,           1,           1,           1,           1,           1,           1,           1,           1,           1,           1,           1,           1,           1,           1,           1,           1,           1,           1,           1,           1,\n",
              "                  1,           1,           1,           1,           1,           1,           1,           1,           1,           1,           1,           1,           1,           1,           1,           1,           1,           1,           1,           1,           1,           1,           1,\n",
              "                  1,           1,           1,           1,           1,           1,           1,           1,           1,           1,           1,           1,           1,           1,           1,           1,           1,           1,           1,           1,           1,           1,           1,\n",
              "                  1,           1,           1,           1,           1,           1,           1,           1,           1,           1,           1,           1,           1,           1,           1,           1,           1,           1,           1,           1,           1,           1,           1,\n",
              "                  1,           1,           1,           1,           1,           1,           1,           1,           1,           1,           1,           1,           1,           1,           1,           1,           1,           1,           1,           1,           1,           1,           1,\n",
              "                  1,           1,           1,           1,           1,           1,           1,           1,           1,           1,           1,           1,           1,           1,           1,           1,           1,           1,           1,           1,           1,           1,           1,\n",
              "                  1,           1,           1,           1,           1,           1,           1,           1,           1,           1,           1,           1,           1,           1,           1,           1,           1,           1,           1,           1,           1,           1,           1,\n",
              "                  1,           1,           1,           1,           1,           1,           1,           1,           1,           1,           1,           1,           1,           1,           1,           1,           1,           1,           1,           1,           1,           1,           1,\n",
              "                  1,           1,           1,           1,           1,           1,           1,           1,           1,           1,           1,           1,           1,           1,           1,           1,           1,           1,           1,           1,           1,           1,           1,\n",
              "                  1,           1,           1,           1,           1,           1,           1,           1,           1,           1,           1,           1,           1,           1,           1,           1,           1,           1,           1,           1,           1,           1,           1,\n",
              "                  1,           1,           1,           1,           1,           1,           1,           1,           1,           1,           1,           1,           1,           1,           1,           1,           1,           1,           1,           1,           1,           1,     0.99408,\n",
              "            0.99408,     0.99408,     0.99408,     0.99408,     0.99408,     0.99408,     0.99408,      0.9883,      0.9883,      0.9883,      0.9883,     0.98429,     0.98429,     0.98429,     0.98429,     0.98429,     0.98429,     0.98429,     0.98429,     0.98429,     0.98429,     0.98429,     0.98429,\n",
              "            0.98429,     0.98429,     0.98429,     0.98429,     0.98429,     0.98429,     0.98429,     0.98429,     0.98429,     0.98429,     0.98429,     0.98429,     0.98429,     0.98429,     0.98429,     0.98429,     0.98429,     0.98429,     0.98429,     0.98429,     0.98429,     0.98429,     0.98429,\n",
              "            0.98429,     0.98429,     0.98429,     0.98429,     0.98429,     0.98429,     0.98429,     0.98429,     0.98429,     0.98429,     0.98429,     0.98429,     0.98429,     0.98429,     0.98429,     0.98429,     0.98429,     0.98429,     0.98429,     0.98429,     0.98429,     0.98429,     0.98429,\n",
              "            0.98429,     0.98429,     0.98429,     0.98429,     0.98429,     0.98429,     0.98429,     0.98429,     0.98429,     0.98429,     0.98429,     0.98429,     0.98429,     0.98429,     0.98429,     0.98429,     0.98429,     0.98429,     0.98429,     0.98429,     0.98429,     0.97959,     0.97959,\n",
              "            0.97959,     0.97959,     0.97959,     0.97959,     0.97959,     0.97959,     0.97959,     0.97959,     0.97959,     0.97959,     0.97959,     0.97959,     0.97959,     0.97959,     0.96569,     0.96569,     0.96569,     0.96569,     0.96569,     0.96569,     0.96569,     0.96569,     0.96569,\n",
              "            0.96569,     0.96569,     0.96569,     0.96569,     0.96569,     0.96569,     0.96569,     0.96569,     0.96569,     0.96569,     0.96569,     0.96569,     0.94762,     0.94762,     0.94762,     0.94762,     0.94762,     0.94762,     0.94762,     0.94762,     0.93925,     0.93925,     0.93925,\n",
              "            0.93925,     0.93925,     0.93925,     0.93925,     0.93925,     0.93925,     0.93548,     0.93548,     0.93548,     0.93548,     0.93548,     0.93548,     0.93548,     0.93548,      0.9148,      0.9148,      0.9148,      0.9148,     0.91111,     0.91111,     0.91111,     0.91111,     0.90086,\n",
              "            0.90086,     0.90086,     0.90086,     0.90086,     0.90086,     0.90086,     0.90086,     0.90086,     0.90086,     0.90086,     0.90086,     0.90086,     0.90086,     0.90086,     0.90086,     0.90086,     0.89744,     0.89744,     0.89744,     0.89744,      0.8903,      0.8903,      0.8903,\n",
              "             0.8903,     0.88333,     0.88333,     0.88333,     0.88333,     0.87654,     0.87654,     0.87654,     0.87654,     0.87347,     0.87347,     0.87347,     0.87347,     0.87347,     0.83333,     0.83333,     0.83333,     0.83333,     0.81509,     0.81509,     0.81509,     0.81509,     0.78623,\n",
              "            0.78623,     0.78623,     0.78623,     0.77305,     0.77305,     0.77305,     0.77305,     0.76842,     0.76842,     0.76842,     0.76842,     0.75342,     0.75342,     0.75342,     0.75342,      0.7517,      0.7517,      0.7517,      0.7517,      0.7517,     0.72787,     0.72787,     0.72787,\n",
              "            0.72787,     0.71935,     0.71935,     0.71935,     0.71935,     0.67066,     0.67066,     0.67066,     0.67066,     0.65982,     0.65982,     0.65982,     0.65982,     0.62431,     0.62431,     0.62431,     0.62431,     0.61351,     0.61351,     0.61351,     0.61351,     0.40642,     0.40642,\n",
              "            0.40642,     0.40642,     0.40642,     0.31499,     0.31499,     0.31499,     0.31499,     0.26964,     0.26964,     0.26964,     0.26964,     0.22759,     0.22759,     0.22759,     0.22759,     0.18268,     0.18268,     0.18268,     0.18268,     0.17545,     0.17545,     0.17545,     0.17545,\n",
              "            0.16981,     0.16981,     0.16981,     0.16981,     0.16129,     0.16129,     0.16129,     0.16129,     0.16129,     0.11137,     0.11137,     0.11137,     0.11137,   0.0099055,   0.0099055,   0.0099055,   0.0099055,   0.0081248,   0.0081248,   0.0081248,   0.0081248,   0.0061269,   0.0061269,\n",
              "          0.0061269,   0.0061269,   0.0052833,   0.0052833,   0.0052833,   0.0052833,   0.0048084,   0.0036063,   0.0024042,   0.0012021,           0]]), 'Recall', 'Precision'], [array([          0,    0.001001,    0.002002,    0.003003,    0.004004,    0.005005,    0.006006,    0.007007,    0.008008,    0.009009,     0.01001,    0.011011,    0.012012,    0.013013,    0.014014,    0.015015,    0.016016,    0.017017,    0.018018,    0.019019,     0.02002,    0.021021,    0.022022,    0.023023,\n",
              "          0.024024,    0.025025,    0.026026,    0.027027,    0.028028,    0.029029,     0.03003,    0.031031,    0.032032,    0.033033,    0.034034,    0.035035,    0.036036,    0.037037,    0.038038,    0.039039,     0.04004,    0.041041,    0.042042,    0.043043,    0.044044,    0.045045,    0.046046,    0.047047,\n",
              "          0.048048,    0.049049,     0.05005,    0.051051,    0.052052,    0.053053,    0.054054,    0.055055,    0.056056,    0.057057,    0.058058,    0.059059,     0.06006,    0.061061,    0.062062,    0.063063,    0.064064,    0.065065,    0.066066,    0.067067,    0.068068,    0.069069,     0.07007,    0.071071,\n",
              "          0.072072,    0.073073,    0.074074,    0.075075,    0.076076,    0.077077,    0.078078,    0.079079,     0.08008,    0.081081,    0.082082,    0.083083,    0.084084,    0.085085,    0.086086,    0.087087,    0.088088,    0.089089,     0.09009,    0.091091,    0.092092,    0.093093,    0.094094,    0.095095,\n",
              "          0.096096,    0.097097,    0.098098,    0.099099,      0.1001,      0.1011,      0.1021,      0.1031,      0.1041,     0.10511,     0.10611,     0.10711,     0.10811,     0.10911,     0.11011,     0.11111,     0.11211,     0.11311,     0.11411,     0.11512,     0.11612,     0.11712,     0.11812,     0.11912,\n",
              "           0.12012,     0.12112,     0.12212,     0.12312,     0.12412,     0.12513,     0.12613,     0.12713,     0.12813,     0.12913,     0.13013,     0.13113,     0.13213,     0.13313,     0.13413,     0.13514,     0.13614,     0.13714,     0.13814,     0.13914,     0.14014,     0.14114,     0.14214,     0.14314,\n",
              "           0.14414,     0.14515,     0.14615,     0.14715,     0.14815,     0.14915,     0.15015,     0.15115,     0.15215,     0.15315,     0.15415,     0.15516,     0.15616,     0.15716,     0.15816,     0.15916,     0.16016,     0.16116,     0.16216,     0.16316,     0.16416,     0.16517,     0.16617,     0.16717,\n",
              "           0.16817,     0.16917,     0.17017,     0.17117,     0.17217,     0.17317,     0.17417,     0.17518,     0.17618,     0.17718,     0.17818,     0.17918,     0.18018,     0.18118,     0.18218,     0.18318,     0.18418,     0.18519,     0.18619,     0.18719,     0.18819,     0.18919,     0.19019,     0.19119,\n",
              "           0.19219,     0.19319,     0.19419,      0.1952,      0.1962,      0.1972,      0.1982,      0.1992,      0.2002,      0.2012,      0.2022,      0.2032,      0.2042,     0.20521,     0.20621,     0.20721,     0.20821,     0.20921,     0.21021,     0.21121,     0.21221,     0.21321,     0.21421,     0.21522,\n",
              "           0.21622,     0.21722,     0.21822,     0.21922,     0.22022,     0.22122,     0.22222,     0.22322,     0.22422,     0.22523,     0.22623,     0.22723,     0.22823,     0.22923,     0.23023,     0.23123,     0.23223,     0.23323,     0.23423,     0.23524,     0.23624,     0.23724,     0.23824,     0.23924,\n",
              "           0.24024,     0.24124,     0.24224,     0.24324,     0.24424,     0.24525,     0.24625,     0.24725,     0.24825,     0.24925,     0.25025,     0.25125,     0.25225,     0.25325,     0.25425,     0.25526,     0.25626,     0.25726,     0.25826,     0.25926,     0.26026,     0.26126,     0.26226,     0.26326,\n",
              "           0.26426,     0.26527,     0.26627,     0.26727,     0.26827,     0.26927,     0.27027,     0.27127,     0.27227,     0.27327,     0.27427,     0.27528,     0.27628,     0.27728,     0.27828,     0.27928,     0.28028,     0.28128,     0.28228,     0.28328,     0.28428,     0.28529,     0.28629,     0.28729,\n",
              "           0.28829,     0.28929,     0.29029,     0.29129,     0.29229,     0.29329,     0.29429,      0.2953,      0.2963,      0.2973,      0.2983,      0.2993,      0.3003,      0.3013,      0.3023,      0.3033,      0.3043,     0.30531,     0.30631,     0.30731,     0.30831,     0.30931,     0.31031,     0.31131,\n",
              "           0.31231,     0.31331,     0.31431,     0.31532,     0.31632,     0.31732,     0.31832,     0.31932,     0.32032,     0.32132,     0.32232,     0.32332,     0.32432,     0.32533,     0.32633,     0.32733,     0.32833,     0.32933,     0.33033,     0.33133,     0.33233,     0.33333,     0.33433,     0.33534,\n",
              "           0.33634,     0.33734,     0.33834,     0.33934,     0.34034,     0.34134,     0.34234,     0.34334,     0.34434,     0.34535,     0.34635,     0.34735,     0.34835,     0.34935,     0.35035,     0.35135,     0.35235,     0.35335,     0.35435,     0.35536,     0.35636,     0.35736,     0.35836,     0.35936,\n",
              "           0.36036,     0.36136,     0.36236,     0.36336,     0.36436,     0.36537,     0.36637,     0.36737,     0.36837,     0.36937,     0.37037,     0.37137,     0.37237,     0.37337,     0.37437,     0.37538,     0.37638,     0.37738,     0.37838,     0.37938,     0.38038,     0.38138,     0.38238,     0.38338,\n",
              "           0.38438,     0.38539,     0.38639,     0.38739,     0.38839,     0.38939,     0.39039,     0.39139,     0.39239,     0.39339,     0.39439,      0.3954,      0.3964,      0.3974,      0.3984,      0.3994,      0.4004,      0.4014,      0.4024,      0.4034,      0.4044,     0.40541,     0.40641,     0.40741,\n",
              "           0.40841,     0.40941,     0.41041,     0.41141,     0.41241,     0.41341,     0.41441,     0.41542,     0.41642,     0.41742,     0.41842,     0.41942,     0.42042,     0.42142,     0.42242,     0.42342,     0.42442,     0.42543,     0.42643,     0.42743,     0.42843,     0.42943,     0.43043,     0.43143,\n",
              "           0.43243,     0.43343,     0.43443,     0.43544,     0.43644,     0.43744,     0.43844,     0.43944,     0.44044,     0.44144,     0.44244,     0.44344,     0.44444,     0.44545,     0.44645,     0.44745,     0.44845,     0.44945,     0.45045,     0.45145,     0.45245,     0.45345,     0.45445,     0.45546,\n",
              "           0.45646,     0.45746,     0.45846,     0.45946,     0.46046,     0.46146,     0.46246,     0.46346,     0.46446,     0.46547,     0.46647,     0.46747,     0.46847,     0.46947,     0.47047,     0.47147,     0.47247,     0.47347,     0.47447,     0.47548,     0.47648,     0.47748,     0.47848,     0.47948,\n",
              "           0.48048,     0.48148,     0.48248,     0.48348,     0.48448,     0.48549,     0.48649,     0.48749,     0.48849,     0.48949,     0.49049,     0.49149,     0.49249,     0.49349,     0.49449,      0.4955,      0.4965,      0.4975,      0.4985,      0.4995,      0.5005,      0.5015,      0.5025,      0.5035,\n",
              "            0.5045,     0.50551,     0.50651,     0.50751,     0.50851,     0.50951,     0.51051,     0.51151,     0.51251,     0.51351,     0.51451,     0.51552,     0.51652,     0.51752,     0.51852,     0.51952,     0.52052,     0.52152,     0.52252,     0.52352,     0.52452,     0.52553,     0.52653,     0.52753,\n",
              "           0.52853,     0.52953,     0.53053,     0.53153,     0.53253,     0.53353,     0.53453,     0.53554,     0.53654,     0.53754,     0.53854,     0.53954,     0.54054,     0.54154,     0.54254,     0.54354,     0.54454,     0.54555,     0.54655,     0.54755,     0.54855,     0.54955,     0.55055,     0.55155,\n",
              "           0.55255,     0.55355,     0.55455,     0.55556,     0.55656,     0.55756,     0.55856,     0.55956,     0.56056,     0.56156,     0.56256,     0.56356,     0.56456,     0.56557,     0.56657,     0.56757,     0.56857,     0.56957,     0.57057,     0.57157,     0.57257,     0.57357,     0.57457,     0.57558,\n",
              "           0.57658,     0.57758,     0.57858,     0.57958,     0.58058,     0.58158,     0.58258,     0.58358,     0.58458,     0.58559,     0.58659,     0.58759,     0.58859,     0.58959,     0.59059,     0.59159,     0.59259,     0.59359,     0.59459,      0.5956,      0.5966,      0.5976,      0.5986,      0.5996,\n",
              "            0.6006,      0.6016,      0.6026,      0.6036,      0.6046,     0.60561,     0.60661,     0.60761,     0.60861,     0.60961,     0.61061,     0.61161,     0.61261,     0.61361,     0.61461,     0.61562,     0.61662,     0.61762,     0.61862,     0.61962,     0.62062,     0.62162,     0.62262,     0.62362,\n",
              "           0.62462,     0.62563,     0.62663,     0.62763,     0.62863,     0.62963,     0.63063,     0.63163,     0.63263,     0.63363,     0.63463,     0.63564,     0.63664,     0.63764,     0.63864,     0.63964,     0.64064,     0.64164,     0.64264,     0.64364,     0.64464,     0.64565,     0.64665,     0.64765,\n",
              "           0.64865,     0.64965,     0.65065,     0.65165,     0.65265,     0.65365,     0.65465,     0.65566,     0.65666,     0.65766,     0.65866,     0.65966,     0.66066,     0.66166,     0.66266,     0.66366,     0.66466,     0.66567,     0.66667,     0.66767,     0.66867,     0.66967,     0.67067,     0.67167,\n",
              "           0.67267,     0.67367,     0.67467,     0.67568,     0.67668,     0.67768,     0.67868,     0.67968,     0.68068,     0.68168,     0.68268,     0.68368,     0.68468,     0.68569,     0.68669,     0.68769,     0.68869,     0.68969,     0.69069,     0.69169,     0.69269,     0.69369,     0.69469,      0.6957,\n",
              "            0.6967,      0.6977,      0.6987,      0.6997,      0.7007,      0.7017,      0.7027,      0.7037,      0.7047,     0.70571,     0.70671,     0.70771,     0.70871,     0.70971,     0.71071,     0.71171,     0.71271,     0.71371,     0.71471,     0.71572,     0.71672,     0.71772,     0.71872,     0.71972,\n",
              "           0.72072,     0.72172,     0.72272,     0.72372,     0.72472,     0.72573,     0.72673,     0.72773,     0.72873,     0.72973,     0.73073,     0.73173,     0.73273,     0.73373,     0.73473,     0.73574,     0.73674,     0.73774,     0.73874,     0.73974,     0.74074,     0.74174,     0.74274,     0.74374,\n",
              "           0.74474,     0.74575,     0.74675,     0.74775,     0.74875,     0.74975,     0.75075,     0.75175,     0.75275,     0.75375,     0.75475,     0.75576,     0.75676,     0.75776,     0.75876,     0.75976,     0.76076,     0.76176,     0.76276,     0.76376,     0.76476,     0.76577,     0.76677,     0.76777,\n",
              "           0.76877,     0.76977,     0.77077,     0.77177,     0.77277,     0.77377,     0.77477,     0.77578,     0.77678,     0.77778,     0.77878,     0.77978,     0.78078,     0.78178,     0.78278,     0.78378,     0.78478,     0.78579,     0.78679,     0.78779,     0.78879,     0.78979,     0.79079,     0.79179,\n",
              "           0.79279,     0.79379,     0.79479,      0.7958,      0.7968,      0.7978,      0.7988,      0.7998,      0.8008,      0.8018,      0.8028,      0.8038,      0.8048,     0.80581,     0.80681,     0.80781,     0.80881,     0.80981,     0.81081,     0.81181,     0.81281,     0.81381,     0.81481,     0.81582,\n",
              "           0.81682,     0.81782,     0.81882,     0.81982,     0.82082,     0.82182,     0.82282,     0.82382,     0.82482,     0.82583,     0.82683,     0.82783,     0.82883,     0.82983,     0.83083,     0.83183,     0.83283,     0.83383,     0.83483,     0.83584,     0.83684,     0.83784,     0.83884,     0.83984,\n",
              "           0.84084,     0.84184,     0.84284,     0.84384,     0.84484,     0.84585,     0.84685,     0.84785,     0.84885,     0.84985,     0.85085,     0.85185,     0.85285,     0.85385,     0.85485,     0.85586,     0.85686,     0.85786,     0.85886,     0.85986,     0.86086,     0.86186,     0.86286,     0.86386,\n",
              "           0.86486,     0.86587,     0.86687,     0.86787,     0.86887,     0.86987,     0.87087,     0.87187,     0.87287,     0.87387,     0.87487,     0.87588,     0.87688,     0.87788,     0.87888,     0.87988,     0.88088,     0.88188,     0.88288,     0.88388,     0.88488,     0.88589,     0.88689,     0.88789,\n",
              "           0.88889,     0.88989,     0.89089,     0.89189,     0.89289,     0.89389,     0.89489,      0.8959,      0.8969,      0.8979,      0.8989,      0.8999,      0.9009,      0.9019,      0.9029,      0.9039,      0.9049,     0.90591,     0.90691,     0.90791,     0.90891,     0.90991,     0.91091,     0.91191,\n",
              "           0.91291,     0.91391,     0.91491,     0.91592,     0.91692,     0.91792,     0.91892,     0.91992,     0.92092,     0.92192,     0.92292,     0.92392,     0.92492,     0.92593,     0.92693,     0.92793,     0.92893,     0.92993,     0.93093,     0.93193,     0.93293,     0.93393,     0.93493,     0.93594,\n",
              "           0.93694,     0.93794,     0.93894,     0.93994,     0.94094,     0.94194,     0.94294,     0.94394,     0.94494,     0.94595,     0.94695,     0.94795,     0.94895,     0.94995,     0.95095,     0.95195,     0.95295,     0.95395,     0.95495,     0.95596,     0.95696,     0.95796,     0.95896,     0.95996,\n",
              "           0.96096,     0.96196,     0.96296,     0.96396,     0.96496,     0.96597,     0.96697,     0.96797,     0.96897,     0.96997,     0.97097,     0.97197,     0.97297,     0.97397,     0.97497,     0.97598,     0.97698,     0.97798,     0.97898,     0.97998,     0.98098,     0.98198,     0.98298,     0.98398,\n",
              "           0.98498,     0.98599,     0.98699,     0.98799,     0.98899,     0.98999,     0.99099,     0.99199,     0.99299,     0.99399,     0.99499,       0.996,       0.997,       0.998,       0.999,           1]), array([[  0.0099163,   0.0099209,    0.012808,    0.043123,     0.13158,     0.20997,     0.26892,     0.30051,     0.32971,     0.36466,     0.38979,     0.41527,     0.43334,     0.45533,     0.47013,     0.48399,      0.4976,     0.50907,     0.52013,     0.53099,     0.54367,     0.55445,     0.56663,\n",
              "            0.57206,      0.5836,     0.59294,     0.60462,      0.6098,     0.61762,     0.62498,     0.62752,      0.6332,     0.63988,     0.64659,     0.65367,     0.65745,      0.6623,     0.66566,     0.67037,     0.67703,     0.68037,     0.68486,     0.69094,     0.69678,     0.69958,     0.70448,\n",
              "            0.70798,     0.71259,     0.72081,     0.72534,     0.72889,     0.73223,     0.73427,     0.74028,     0.74493,     0.74632,     0.74691,     0.74794,     0.74822,     0.75312,     0.75429,     0.75596,     0.75911,     0.76203,     0.76534,     0.76928,     0.76974,     0.77021,     0.77292,\n",
              "            0.77254,     0.77461,     0.77697,     0.77765,     0.77825,     0.77845,     0.77931,     0.77998,     0.78049,     0.78099,     0.78344,     0.78446,     0.78548,     0.78763,     0.78896,     0.78994,     0.79089,     0.79207,     0.79304,     0.79443,     0.79761,     0.79859,     0.79942,\n",
              "             0.8002,     0.80154,     0.80349,     0.80463,     0.80591,     0.80733,     0.80813,     0.80841,     0.80869,     0.80898,     0.80926,     0.80848,     0.80933,     0.81042,     0.81139,     0.81256,     0.81248,     0.81106,     0.81244,      0.8143,     0.81496,     0.81612,     0.81893,\n",
              "            0.81962,     0.82029,     0.82094,     0.82163,     0.82422,     0.82596,     0.82542,     0.82488,     0.82435,      0.8241,     0.82451,     0.82493,     0.82535,     0.82478,     0.82352,     0.82391,     0.82465,     0.82783,      0.8288,     0.82961,     0.82999,     0.83037,     0.83076,\n",
              "            0.83119,     0.83238,     0.83198,     0.83099,     0.83093,     0.83187,      0.8336,     0.83304,     0.83247,      0.8319,     0.83147,     0.83181,     0.83215,     0.83249,     0.83284,     0.83364,     0.83662,       0.838,     0.83847,     0.83893,     0.83939,     0.83927,     0.83906,\n",
              "            0.83884,     0.83863,     0.83841,      0.8382,     0.83798,     0.83777,     0.83755,     0.83734,     0.83886,     0.83911,     0.83936,     0.83961,     0.83986,      0.8401,     0.84035,     0.84072,     0.84118,     0.84164,      0.8421,      0.8424,      0.8427,       0.843,      0.8433,\n",
              "             0.8436,     0.84465,     0.84552,     0.84573,     0.84594,     0.84614,     0.84635,     0.84656,     0.84676,     0.84697,     0.84887,     0.85021,     0.85078,     0.85123,     0.85167,     0.85214,     0.85279,     0.85343,     0.85303,     0.85154,      0.8523,     0.85315,     0.85336,\n",
              "            0.85356,     0.85375,     0.85395,     0.85414,     0.85434,     0.85453,     0.85472,     0.85514,     0.85629,     0.85765,     0.85857,     0.85909,      0.8596,     0.86013,     0.86072,     0.86132,     0.86013,     0.86037,     0.86128,     0.86173,     0.86217,     0.86262,       0.863,\n",
              "            0.86328,     0.86355,     0.86383,     0.86411,     0.86438,     0.86474,     0.86845,      0.8702,     0.87132,     0.87224,     0.87305,     0.87365,     0.87402,      0.8744,     0.87477,     0.87514,     0.87708,     0.87727,     0.87747,     0.87766,     0.87786,     0.87805,     0.87825,\n",
              "            0.87844,     0.87864,     0.87883,     0.88008,     0.88008,     0.87909,     0.87872,     0.88013,     0.87911,     0.87803,      0.8795,     0.88078,     0.88134,     0.88096,     0.88057,     0.88019,     0.87981,     0.87942,     0.87926,     0.87953,      0.8798,     0.88007,     0.88034,\n",
              "            0.88061,     0.88088,     0.88121,     0.88158,     0.88195,     0.88232,     0.88269,     0.88083,     0.88166,      0.8824,     0.88268,     0.88296,     0.88325,     0.88353,     0.88381,     0.88409,     0.88211,     0.88343,     0.88294,     0.88245,     0.88195,     0.88146,     0.88094,\n",
              "            0.88042,      0.8799,     0.87938,     0.87796,     0.87655,     0.87647,      0.8764,     0.87632,     0.87625,     0.87618,      0.8761,     0.87603,     0.87596,     0.87588,     0.87581,     0.87574,     0.87566,     0.87559,     0.87551,     0.87544,     0.87537,     0.87529,     0.87522,\n",
              "            0.87515,     0.87507,       0.875,     0.87492,     0.87485,     0.87478,      0.8747,     0.87463,     0.87456,     0.87448,     0.87441,     0.87433,     0.87426,     0.87429,     0.87475,      0.8752,     0.87566,     0.87613,      0.8767,     0.87727,     0.87784,     0.87863,     0.87946,\n",
              "            0.87743,     0.87751,      0.8776,     0.87768,     0.87777,     0.87785,     0.87793,     0.87802,      0.8781,     0.87819,     0.87827,     0.87836,     0.87844,     0.87853,     0.87861,      0.8787,     0.87878,     0.87887,     0.87895,     0.87903,     0.87912,      0.8792,     0.87929,\n",
              "            0.87888,      0.8783,     0.87771,     0.87713,     0.87837,     0.87888,     0.87899,      0.8791,     0.87921,     0.87933,     0.87944,     0.87955,     0.87966,     0.87977,     0.87988,     0.87999,     0.88011,     0.88022,     0.88033,     0.88044,     0.88055,     0.88066,     0.88077,\n",
              "            0.88089,       0.881,     0.88112,     0.88123,     0.88135,     0.88146,     0.88158,     0.88169,     0.88181,     0.88192,     0.88204,     0.88215,     0.88227,     0.88238,      0.8825,     0.88262,     0.88287,     0.88313,     0.88339,     0.88365,     0.88391,     0.88417,     0.88443,\n",
              "             0.8852,     0.88632,     0.88609,     0.88566,     0.88523,      0.8848,     0.88437,     0.88397,     0.88365,     0.88333,     0.88302,      0.8827,     0.88238,     0.88206,     0.88174,     0.88161,     0.88168,     0.88175,     0.88181,     0.88188,     0.88195,     0.88202,     0.88209,\n",
              "            0.88215,     0.88222,     0.88229,     0.88236,     0.88242,     0.88249,     0.88256,     0.88263,     0.88269,     0.88276,     0.88283,      0.8829,     0.88297,     0.88303,      0.8831,     0.88317,     0.88324,      0.8833,     0.88337,     0.88344,     0.88351,     0.88326,     0.88294,\n",
              "            0.88263,     0.88232,     0.88201,      0.8817,     0.88138,     0.88107,     0.88012,     0.87915,      0.8787,     0.87898,     0.87925,     0.87952,     0.87979,     0.88006,     0.88033,     0.88059,      0.8808,     0.88101,     0.88122,     0.88143,     0.88164,     0.88185,     0.88205,\n",
              "            0.88226,     0.88247,     0.88211,     0.88172,     0.88132,     0.88093,     0.88054,     0.88014,     0.87883,      0.8778,     0.87889,     0.87957,     0.87981,     0.88005,     0.88028,     0.88052,     0.88076,     0.88099,     0.88123,     0.88146,     0.88164,     0.88182,       0.882,\n",
              "            0.88219,     0.88237,     0.88255,     0.88273,     0.88291,      0.8831,     0.88328,     0.88343,     0.88351,      0.8836,     0.88368,     0.88376,     0.88384,     0.88393,     0.88401,     0.88409,     0.88418,     0.88426,     0.88434,     0.88442,     0.88451,     0.88459,     0.88467,\n",
              "            0.88475,     0.88484,     0.88492,       0.885,     0.88508,     0.88516,     0.88525,     0.88533,     0.88493,     0.88289,     0.88176,     0.88062,     0.87884,     0.87704,      0.8754,     0.87516,     0.87502,     0.87489,     0.87475,     0.87461,     0.87448,     0.87434,     0.87421,\n",
              "            0.87407,     0.87393,      0.8738,     0.87366,     0.87352,     0.87339,     0.87325,     0.87312,     0.87298,     0.87284,     0.87292,     0.87417,     0.87675,     0.87689,     0.87702,     0.87715,     0.87728,     0.87741,     0.87755,     0.87768,     0.87781,     0.87794,     0.87807,\n",
              "             0.8782,     0.87834,     0.87847,      0.8786,     0.87866,       0.878,     0.87733,     0.87666,      0.8735,     0.87269,     0.87188,     0.87107,      0.8704,     0.86975,      0.8691,     0.86845,     0.86866,       0.869,     0.86934,     0.86968,     0.87002,     0.87037,      0.8674,\n",
              "            0.86681,     0.86621,     0.86561,     0.86498,     0.86421,     0.86343,     0.86266,     0.86241,     0.86232,     0.86224,     0.86215,     0.86207,     0.86198,      0.8619,     0.86182,     0.86173,     0.86165,     0.86156,     0.86148,     0.86139,     0.86131,     0.86122,     0.86114,\n",
              "            0.86106,     0.86097,     0.86089,      0.8608,     0.86072,     0.86063,     0.86055,     0.86046,     0.86038,     0.86029,     0.86021,     0.86012,     0.86004,     0.85995,     0.85987,     0.85932,     0.85784,     0.85643,     0.85507,     0.85419,     0.85371,     0.85323,     0.85274,\n",
              "            0.85226,     0.85177,     0.84964,     0.84625,     0.84605,     0.84585,     0.84565,     0.84546,     0.84526,     0.84506,     0.84486,     0.84466,     0.84447,     0.84427,     0.84407,     0.84387,     0.84367,     0.84345,     0.84321,     0.84297,     0.84272,     0.84248,     0.84224,\n",
              "              0.842,     0.84176,     0.84152,     0.84128,     0.84103,     0.84075,     0.84034,     0.83993,     0.83952,     0.83911,      0.8387,     0.83829,     0.83767,     0.83687,     0.83607,     0.83525,      0.8343,     0.83335,     0.83214,     0.82968,     0.82921,     0.82874,     0.82827,\n",
              "            0.82779,     0.82732,     0.82655,      0.8242,     0.82348,     0.82283,     0.82218,     0.82153,     0.82107,     0.82074,     0.82042,      0.8201,     0.81977,     0.81945,     0.81912,      0.8188,     0.81848,     0.81882,     0.81937,     0.81991,     0.82036,     0.82017,     0.81997,\n",
              "            0.81978,     0.81958,     0.81939,     0.81919,       0.819,      0.8188,     0.81861,     0.81841,     0.81822,     0.81802,     0.81783,     0.81763,      0.8177,     0.81812,     0.81854,     0.81896,     0.81938,     0.81857,      0.8172,     0.81597,     0.81483,     0.81377,     0.81513,\n",
              "            0.81521,      0.8143,     0.81339,     0.80983,     0.80944,     0.80904,     0.80864,     0.80825,     0.80785,     0.80745,     0.80706,     0.80657,     0.80605,     0.80553,       0.805,     0.80448,     0.80368,     0.80042,     0.79955,     0.79869,     0.79477,     0.79327,     0.79191,\n",
              "             0.7914,      0.7909,     0.79039,     0.78988,     0.78937,      0.7887,      0.7872,     0.78542,     0.77962,     0.77885,     0.77809,     0.77733,     0.77576,     0.77251,     0.77109,     0.76961,     0.76807,     0.76697,     0.76635,     0.76574,     0.76512,      0.7645,     0.76294,\n",
              "            0.75917,     0.75712,     0.75623,     0.75534,     0.75444,     0.75343,     0.75241,      0.7514,     0.74779,      0.7469,       0.746,     0.74511,     0.74402,     0.74282,     0.74162,     0.73886,     0.73036,     0.72448,     0.72395,     0.72342,     0.72289,     0.72236,     0.72182,\n",
              "            0.72003,     0.71742,     0.71612,     0.71482,     0.71291,     0.71062,     0.70699,     0.70374,      0.6966,     0.69452,     0.69218,     0.69003,     0.68914,     0.68825,     0.68736,     0.68165,     0.67614,     0.67206,     0.66828,     0.66552,     0.66427,     0.66353,      0.6628,\n",
              "            0.66206,     0.66132,     0.66032,     0.65921,      0.6581,     0.65705,     0.65612,     0.65518,     0.65424,     0.65175,     0.63616,     0.63261,     0.62919,     0.61937,     0.61063,     0.60629,     0.60515,       0.604,     0.60283,     0.60145,     0.60007,     0.59688,     0.58962,\n",
              "            0.58813,     0.58664,     0.57911,     0.57344,     0.57142,      0.5694,      0.5674,     0.56527,     0.56069,     0.55854,     0.55513,     0.54694,     0.54496,     0.53892,      0.5373,     0.53567,     0.52965,     0.52743,     0.52356,     0.50957,     0.50021,     0.49342,     0.49095,\n",
              "            0.48723,     0.47475,      0.4693,     0.46692,     0.45906,     0.44973,     0.44723,     0.44477,     0.44253,     0.44028,     0.43753,     0.43487,     0.43324,     0.43161,     0.42997,     0.41854,     0.41514,     0.41088,     0.40406,     0.39188,     0.38865,     0.38199,     0.37835,\n",
              "            0.37368,     0.36051,     0.35851,     0.35651,     0.35252,     0.33806,     0.33561,     0.33327,     0.32143,     0.31663,     0.30774,     0.30037,     0.27897,     0.27327,     0.26353,     0.25984,     0.25214,     0.24555,     0.23892,     0.23559,     0.22269,     0.21224,     0.20901,\n",
              "            0.20392,     0.18584,     0.18055,     0.17858,     0.17661,     0.17463,     0.17035,     0.16579,     0.16171,     0.15751,     0.15317,     0.11854,     0.10363,    0.092287,    0.079472,    0.077227,    0.074976,     0.07272,    0.067715,    0.063312,    0.061221,    0.059125,    0.057025,\n",
              "           0.055332,    0.053791,    0.052247,      0.0507,    0.049152,    0.047598,     0.04604,    0.044479,    0.042917,    0.041351,    0.038703,    0.035171,    0.032141,    0.030368,    0.028592,    0.026813,     0.02503,    0.015257,    0.013578,    0.011897,    0.010212,   0.0085248,           0,\n",
              "                  0,           0,           0,           0,           0,           0,           0,           0,           0,           0,           0,           0,           0,           0,           0,           0,           0,           0,           0,           0,           0,           0,           0,\n",
              "                  0,           0,           0,           0,           0,           0,           0,           0,           0,           0,           0]]), 'Confidence', 'F1'], [array([          0,    0.001001,    0.002002,    0.003003,    0.004004,    0.005005,    0.006006,    0.007007,    0.008008,    0.009009,     0.01001,    0.011011,    0.012012,    0.013013,    0.014014,    0.015015,    0.016016,    0.017017,    0.018018,    0.019019,     0.02002,    0.021021,    0.022022,    0.023023,\n",
              "          0.024024,    0.025025,    0.026026,    0.027027,    0.028028,    0.029029,     0.03003,    0.031031,    0.032032,    0.033033,    0.034034,    0.035035,    0.036036,    0.037037,    0.038038,    0.039039,     0.04004,    0.041041,    0.042042,    0.043043,    0.044044,    0.045045,    0.046046,    0.047047,\n",
              "          0.048048,    0.049049,     0.05005,    0.051051,    0.052052,    0.053053,    0.054054,    0.055055,    0.056056,    0.057057,    0.058058,    0.059059,     0.06006,    0.061061,    0.062062,    0.063063,    0.064064,    0.065065,    0.066066,    0.067067,    0.068068,    0.069069,     0.07007,    0.071071,\n",
              "          0.072072,    0.073073,    0.074074,    0.075075,    0.076076,    0.077077,    0.078078,    0.079079,     0.08008,    0.081081,    0.082082,    0.083083,    0.084084,    0.085085,    0.086086,    0.087087,    0.088088,    0.089089,     0.09009,    0.091091,    0.092092,    0.093093,    0.094094,    0.095095,\n",
              "          0.096096,    0.097097,    0.098098,    0.099099,      0.1001,      0.1011,      0.1021,      0.1031,      0.1041,     0.10511,     0.10611,     0.10711,     0.10811,     0.10911,     0.11011,     0.11111,     0.11211,     0.11311,     0.11411,     0.11512,     0.11612,     0.11712,     0.11812,     0.11912,\n",
              "           0.12012,     0.12112,     0.12212,     0.12312,     0.12412,     0.12513,     0.12613,     0.12713,     0.12813,     0.12913,     0.13013,     0.13113,     0.13213,     0.13313,     0.13413,     0.13514,     0.13614,     0.13714,     0.13814,     0.13914,     0.14014,     0.14114,     0.14214,     0.14314,\n",
              "           0.14414,     0.14515,     0.14615,     0.14715,     0.14815,     0.14915,     0.15015,     0.15115,     0.15215,     0.15315,     0.15415,     0.15516,     0.15616,     0.15716,     0.15816,     0.15916,     0.16016,     0.16116,     0.16216,     0.16316,     0.16416,     0.16517,     0.16617,     0.16717,\n",
              "           0.16817,     0.16917,     0.17017,     0.17117,     0.17217,     0.17317,     0.17417,     0.17518,     0.17618,     0.17718,     0.17818,     0.17918,     0.18018,     0.18118,     0.18218,     0.18318,     0.18418,     0.18519,     0.18619,     0.18719,     0.18819,     0.18919,     0.19019,     0.19119,\n",
              "           0.19219,     0.19319,     0.19419,      0.1952,      0.1962,      0.1972,      0.1982,      0.1992,      0.2002,      0.2012,      0.2022,      0.2032,      0.2042,     0.20521,     0.20621,     0.20721,     0.20821,     0.20921,     0.21021,     0.21121,     0.21221,     0.21321,     0.21421,     0.21522,\n",
              "           0.21622,     0.21722,     0.21822,     0.21922,     0.22022,     0.22122,     0.22222,     0.22322,     0.22422,     0.22523,     0.22623,     0.22723,     0.22823,     0.22923,     0.23023,     0.23123,     0.23223,     0.23323,     0.23423,     0.23524,     0.23624,     0.23724,     0.23824,     0.23924,\n",
              "           0.24024,     0.24124,     0.24224,     0.24324,     0.24424,     0.24525,     0.24625,     0.24725,     0.24825,     0.24925,     0.25025,     0.25125,     0.25225,     0.25325,     0.25425,     0.25526,     0.25626,     0.25726,     0.25826,     0.25926,     0.26026,     0.26126,     0.26226,     0.26326,\n",
              "           0.26426,     0.26527,     0.26627,     0.26727,     0.26827,     0.26927,     0.27027,     0.27127,     0.27227,     0.27327,     0.27427,     0.27528,     0.27628,     0.27728,     0.27828,     0.27928,     0.28028,     0.28128,     0.28228,     0.28328,     0.28428,     0.28529,     0.28629,     0.28729,\n",
              "           0.28829,     0.28929,     0.29029,     0.29129,     0.29229,     0.29329,     0.29429,      0.2953,      0.2963,      0.2973,      0.2983,      0.2993,      0.3003,      0.3013,      0.3023,      0.3033,      0.3043,     0.30531,     0.30631,     0.30731,     0.30831,     0.30931,     0.31031,     0.31131,\n",
              "           0.31231,     0.31331,     0.31431,     0.31532,     0.31632,     0.31732,     0.31832,     0.31932,     0.32032,     0.32132,     0.32232,     0.32332,     0.32432,     0.32533,     0.32633,     0.32733,     0.32833,     0.32933,     0.33033,     0.33133,     0.33233,     0.33333,     0.33433,     0.33534,\n",
              "           0.33634,     0.33734,     0.33834,     0.33934,     0.34034,     0.34134,     0.34234,     0.34334,     0.34434,     0.34535,     0.34635,     0.34735,     0.34835,     0.34935,     0.35035,     0.35135,     0.35235,     0.35335,     0.35435,     0.35536,     0.35636,     0.35736,     0.35836,     0.35936,\n",
              "           0.36036,     0.36136,     0.36236,     0.36336,     0.36436,     0.36537,     0.36637,     0.36737,     0.36837,     0.36937,     0.37037,     0.37137,     0.37237,     0.37337,     0.37437,     0.37538,     0.37638,     0.37738,     0.37838,     0.37938,     0.38038,     0.38138,     0.38238,     0.38338,\n",
              "           0.38438,     0.38539,     0.38639,     0.38739,     0.38839,     0.38939,     0.39039,     0.39139,     0.39239,     0.39339,     0.39439,      0.3954,      0.3964,      0.3974,      0.3984,      0.3994,      0.4004,      0.4014,      0.4024,      0.4034,      0.4044,     0.40541,     0.40641,     0.40741,\n",
              "           0.40841,     0.40941,     0.41041,     0.41141,     0.41241,     0.41341,     0.41441,     0.41542,     0.41642,     0.41742,     0.41842,     0.41942,     0.42042,     0.42142,     0.42242,     0.42342,     0.42442,     0.42543,     0.42643,     0.42743,     0.42843,     0.42943,     0.43043,     0.43143,\n",
              "           0.43243,     0.43343,     0.43443,     0.43544,     0.43644,     0.43744,     0.43844,     0.43944,     0.44044,     0.44144,     0.44244,     0.44344,     0.44444,     0.44545,     0.44645,     0.44745,     0.44845,     0.44945,     0.45045,     0.45145,     0.45245,     0.45345,     0.45445,     0.45546,\n",
              "           0.45646,     0.45746,     0.45846,     0.45946,     0.46046,     0.46146,     0.46246,     0.46346,     0.46446,     0.46547,     0.46647,     0.46747,     0.46847,     0.46947,     0.47047,     0.47147,     0.47247,     0.47347,     0.47447,     0.47548,     0.47648,     0.47748,     0.47848,     0.47948,\n",
              "           0.48048,     0.48148,     0.48248,     0.48348,     0.48448,     0.48549,     0.48649,     0.48749,     0.48849,     0.48949,     0.49049,     0.49149,     0.49249,     0.49349,     0.49449,      0.4955,      0.4965,      0.4975,      0.4985,      0.4995,      0.5005,      0.5015,      0.5025,      0.5035,\n",
              "            0.5045,     0.50551,     0.50651,     0.50751,     0.50851,     0.50951,     0.51051,     0.51151,     0.51251,     0.51351,     0.51451,     0.51552,     0.51652,     0.51752,     0.51852,     0.51952,     0.52052,     0.52152,     0.52252,     0.52352,     0.52452,     0.52553,     0.52653,     0.52753,\n",
              "           0.52853,     0.52953,     0.53053,     0.53153,     0.53253,     0.53353,     0.53453,     0.53554,     0.53654,     0.53754,     0.53854,     0.53954,     0.54054,     0.54154,     0.54254,     0.54354,     0.54454,     0.54555,     0.54655,     0.54755,     0.54855,     0.54955,     0.55055,     0.55155,\n",
              "           0.55255,     0.55355,     0.55455,     0.55556,     0.55656,     0.55756,     0.55856,     0.55956,     0.56056,     0.56156,     0.56256,     0.56356,     0.56456,     0.56557,     0.56657,     0.56757,     0.56857,     0.56957,     0.57057,     0.57157,     0.57257,     0.57357,     0.57457,     0.57558,\n",
              "           0.57658,     0.57758,     0.57858,     0.57958,     0.58058,     0.58158,     0.58258,     0.58358,     0.58458,     0.58559,     0.58659,     0.58759,     0.58859,     0.58959,     0.59059,     0.59159,     0.59259,     0.59359,     0.59459,      0.5956,      0.5966,      0.5976,      0.5986,      0.5996,\n",
              "            0.6006,      0.6016,      0.6026,      0.6036,      0.6046,     0.60561,     0.60661,     0.60761,     0.60861,     0.60961,     0.61061,     0.61161,     0.61261,     0.61361,     0.61461,     0.61562,     0.61662,     0.61762,     0.61862,     0.61962,     0.62062,     0.62162,     0.62262,     0.62362,\n",
              "           0.62462,     0.62563,     0.62663,     0.62763,     0.62863,     0.62963,     0.63063,     0.63163,     0.63263,     0.63363,     0.63463,     0.63564,     0.63664,     0.63764,     0.63864,     0.63964,     0.64064,     0.64164,     0.64264,     0.64364,     0.64464,     0.64565,     0.64665,     0.64765,\n",
              "           0.64865,     0.64965,     0.65065,     0.65165,     0.65265,     0.65365,     0.65465,     0.65566,     0.65666,     0.65766,     0.65866,     0.65966,     0.66066,     0.66166,     0.66266,     0.66366,     0.66466,     0.66567,     0.66667,     0.66767,     0.66867,     0.66967,     0.67067,     0.67167,\n",
              "           0.67267,     0.67367,     0.67467,     0.67568,     0.67668,     0.67768,     0.67868,     0.67968,     0.68068,     0.68168,     0.68268,     0.68368,     0.68468,     0.68569,     0.68669,     0.68769,     0.68869,     0.68969,     0.69069,     0.69169,     0.69269,     0.69369,     0.69469,      0.6957,\n",
              "            0.6967,      0.6977,      0.6987,      0.6997,      0.7007,      0.7017,      0.7027,      0.7037,      0.7047,     0.70571,     0.70671,     0.70771,     0.70871,     0.70971,     0.71071,     0.71171,     0.71271,     0.71371,     0.71471,     0.71572,     0.71672,     0.71772,     0.71872,     0.71972,\n",
              "           0.72072,     0.72172,     0.72272,     0.72372,     0.72472,     0.72573,     0.72673,     0.72773,     0.72873,     0.72973,     0.73073,     0.73173,     0.73273,     0.73373,     0.73473,     0.73574,     0.73674,     0.73774,     0.73874,     0.73974,     0.74074,     0.74174,     0.74274,     0.74374,\n",
              "           0.74474,     0.74575,     0.74675,     0.74775,     0.74875,     0.74975,     0.75075,     0.75175,     0.75275,     0.75375,     0.75475,     0.75576,     0.75676,     0.75776,     0.75876,     0.75976,     0.76076,     0.76176,     0.76276,     0.76376,     0.76476,     0.76577,     0.76677,     0.76777,\n",
              "           0.76877,     0.76977,     0.77077,     0.77177,     0.77277,     0.77377,     0.77477,     0.77578,     0.77678,     0.77778,     0.77878,     0.77978,     0.78078,     0.78178,     0.78278,     0.78378,     0.78478,     0.78579,     0.78679,     0.78779,     0.78879,     0.78979,     0.79079,     0.79179,\n",
              "           0.79279,     0.79379,     0.79479,      0.7958,      0.7968,      0.7978,      0.7988,      0.7998,      0.8008,      0.8018,      0.8028,      0.8038,      0.8048,     0.80581,     0.80681,     0.80781,     0.80881,     0.80981,     0.81081,     0.81181,     0.81281,     0.81381,     0.81481,     0.81582,\n",
              "           0.81682,     0.81782,     0.81882,     0.81982,     0.82082,     0.82182,     0.82282,     0.82382,     0.82482,     0.82583,     0.82683,     0.82783,     0.82883,     0.82983,     0.83083,     0.83183,     0.83283,     0.83383,     0.83483,     0.83584,     0.83684,     0.83784,     0.83884,     0.83984,\n",
              "           0.84084,     0.84184,     0.84284,     0.84384,     0.84484,     0.84585,     0.84685,     0.84785,     0.84885,     0.84985,     0.85085,     0.85185,     0.85285,     0.85385,     0.85485,     0.85586,     0.85686,     0.85786,     0.85886,     0.85986,     0.86086,     0.86186,     0.86286,     0.86386,\n",
              "           0.86486,     0.86587,     0.86687,     0.86787,     0.86887,     0.86987,     0.87087,     0.87187,     0.87287,     0.87387,     0.87487,     0.87588,     0.87688,     0.87788,     0.87888,     0.87988,     0.88088,     0.88188,     0.88288,     0.88388,     0.88488,     0.88589,     0.88689,     0.88789,\n",
              "           0.88889,     0.88989,     0.89089,     0.89189,     0.89289,     0.89389,     0.89489,      0.8959,      0.8969,      0.8979,      0.8989,      0.8999,      0.9009,      0.9019,      0.9029,      0.9039,      0.9049,     0.90591,     0.90691,     0.90791,     0.90891,     0.90991,     0.91091,     0.91191,\n",
              "           0.91291,     0.91391,     0.91491,     0.91592,     0.91692,     0.91792,     0.91892,     0.91992,     0.92092,     0.92192,     0.92292,     0.92392,     0.92492,     0.92593,     0.92693,     0.92793,     0.92893,     0.92993,     0.93093,     0.93193,     0.93293,     0.93393,     0.93493,     0.93594,\n",
              "           0.93694,     0.93794,     0.93894,     0.93994,     0.94094,     0.94194,     0.94294,     0.94394,     0.94494,     0.94595,     0.94695,     0.94795,     0.94895,     0.94995,     0.95095,     0.95195,     0.95295,     0.95395,     0.95495,     0.95596,     0.95696,     0.95796,     0.95896,     0.95996,\n",
              "           0.96096,     0.96196,     0.96296,     0.96396,     0.96496,     0.96597,     0.96697,     0.96797,     0.96897,     0.96997,     0.97097,     0.97197,     0.97297,     0.97397,     0.97497,     0.97598,     0.97698,     0.97798,     0.97898,     0.97998,     0.98098,     0.98198,     0.98298,     0.98398,\n",
              "           0.98498,     0.98599,     0.98699,     0.98799,     0.98899,     0.98999,     0.99099,     0.99199,     0.99299,     0.99399,     0.99499,       0.996,       0.997,       0.998,       0.999,           1]), array([[   0.004983,   0.0049853,    0.006446,    0.022047,    0.070531,     0.11765,     0.15597,     0.17804,      0.1991,     0.22516,     0.24491,     0.26537,     0.28067,      0.2994,     0.31233,     0.32517,     0.33758,     0.34822,     0.35866,     0.36907,     0.38143,     0.39213,     0.40443,\n",
              "            0.41077,     0.42277,     0.43264,      0.4452,     0.45084,     0.45944,     0.46763,     0.47048,      0.4769,     0.48451,     0.49225,      0.5005,     0.50496,      0.5107,      0.5147,     0.52036,     0.52842,     0.53251,     0.53803,     0.54557,     0.55289,     0.55643,     0.56266,\n",
              "            0.56713,     0.57307,     0.58377,     0.58974,     0.59446,     0.59891,     0.60165,     0.60975,     0.61788,     0.61979,     0.62061,     0.62202,     0.62426,     0.63111,     0.63275,     0.63511,     0.63957,     0.64372,     0.64846,     0.65414,     0.65481,     0.65548,     0.65969,\n",
              "            0.66095,     0.66399,     0.66746,     0.66846,     0.67025,     0.67182,     0.67311,     0.67411,     0.67486,     0.67561,     0.67929,     0.68083,     0.68236,     0.68561,     0.68763,     0.68913,     0.69056,     0.69238,     0.69386,     0.69599,     0.70088,     0.70239,     0.70368,\n",
              "             0.7049,     0.70698,     0.71001,     0.71179,      0.7138,     0.71604,     0.71729,     0.71773,     0.71818,     0.71863,     0.71907,     0.71895,     0.72171,     0.72344,       0.725,     0.72686,     0.72758,     0.72699,     0.72928,     0.73228,     0.73335,     0.73522,      0.7398,\n",
              "            0.74093,     0.74203,     0.74309,     0.74421,     0.74848,     0.75162,     0.75141,     0.75121,       0.751,     0.75106,     0.75176,     0.75245,     0.75314,     0.75314,     0.75266,     0.75359,     0.75481,     0.76017,     0.76181,     0.76317,     0.76382,     0.76447,     0.76512,\n",
              "            0.76585,     0.76787,     0.76816,     0.76779,     0.76838,     0.76999,     0.77303,     0.77283,     0.77262,     0.77242,     0.77233,     0.77292,     0.77351,      0.7741,     0.77469,     0.77608,     0.78127,     0.78369,      0.7845,      0.7853,     0.78611,     0.78617,     0.78609,\n",
              "            0.78602,     0.78594,     0.78587,      0.7858,     0.78572,     0.78565,     0.78557,      0.7855,     0.78837,     0.78881,     0.78925,     0.78969,     0.79013,     0.79057,     0.79101,     0.79165,     0.79247,     0.79329,      0.7941,     0.79464,     0.79517,     0.79571,     0.79624,\n",
              "            0.79677,     0.79865,     0.80022,     0.80059,     0.80096,     0.80133,      0.8017,     0.80207,     0.80244,     0.80281,     0.80624,     0.80865,     0.80969,      0.8105,     0.81131,     0.81216,     0.81333,      0.8145,     0.81487,     0.81441,     0.81589,     0.81745,     0.81784,\n",
              "            0.81819,     0.81855,     0.81891,     0.81927,     0.81962,     0.81998,     0.82034,     0.82112,     0.82322,     0.82575,     0.82746,     0.82842,     0.82937,     0.83036,     0.83147,     0.83257,     0.83288,     0.83444,     0.83616,       0.837,     0.83784,     0.83867,      0.8394,\n",
              "            0.83992,     0.84045,     0.84097,      0.8415,     0.84202,     0.84271,     0.84976,     0.85313,      0.8553,     0.85706,     0.85863,     0.85979,     0.86051,     0.86123,     0.86195,     0.86268,     0.86645,     0.86683,     0.86722,      0.8676,     0.86798,     0.86836,     0.86874,\n",
              "            0.86912,      0.8695,     0.86988,     0.87234,     0.87334,     0.87312,     0.87367,     0.87648,     0.87631,     0.87607,     0.87933,      0.8819,      0.8833,     0.88322,     0.88314,     0.88306,     0.88298,      0.8829,     0.88303,     0.88358,     0.88412,     0.88467,     0.88522,\n",
              "            0.88577,     0.88632,     0.88698,     0.88773,     0.88848,     0.88923,     0.88999,      0.8905,     0.89219,     0.89371,     0.89429,     0.89487,     0.89545,     0.89603,     0.89661,     0.89719,     0.89752,     0.90081,     0.90072,     0.90063,     0.90054,     0.90045,     0.90036,\n",
              "            0.90026,     0.90017,     0.90007,     0.89981,     0.89955,     0.89954,     0.89953,     0.89951,      0.8995,     0.89949,     0.89947,     0.89946,     0.89945,     0.89943,     0.89942,      0.8994,     0.89939,     0.89938,     0.89936,     0.89935,     0.89934,     0.89932,     0.89931,\n",
              "             0.8993,     0.89928,     0.89927,     0.89926,     0.89924,     0.89923,     0.89922,      0.8992,     0.89919,     0.89917,     0.89916,     0.89915,     0.89913,     0.89931,     0.90028,     0.90125,     0.90222,     0.90321,     0.90442,     0.90564,     0.90685,     0.90854,     0.91033,\n",
              "            0.91073,     0.91091,     0.91109,     0.91128,     0.91146,     0.91164,     0.91183,     0.91201,     0.91219,     0.91237,     0.91256,     0.91274,     0.91292,      0.9131,     0.91329,     0.91347,     0.91365,     0.91384,     0.91402,      0.9142,     0.91438,     0.91457,     0.91475,\n",
              "            0.91473,     0.91464,     0.91454,     0.91445,     0.91763,     0.91875,       0.919,     0.91924,     0.91949,     0.91973,     0.91997,     0.92022,     0.92046,      0.9207,     0.92095,     0.92119,     0.92144,     0.92168,     0.92192,     0.92217,     0.92241,     0.92265,      0.9229,\n",
              "            0.92316,     0.92341,     0.92366,     0.92391,     0.92417,     0.92442,     0.92467,     0.92493,     0.92518,     0.92543,     0.92568,     0.92594,     0.92619,     0.92644,     0.92669,     0.92696,     0.92753,      0.9281,     0.92867,     0.92924,     0.92982,     0.93039,     0.93096,\n",
              "            0.93267,     0.93516,     0.93544,     0.93539,     0.93533,     0.93528,     0.93523,     0.93518,     0.93514,      0.9351,     0.93506,     0.93502,     0.93498,     0.93494,      0.9349,     0.93496,     0.93511,     0.93526,     0.93541,     0.93557,     0.93572,     0.93587,     0.93602,\n",
              "            0.93618,     0.93633,     0.93648,     0.93663,     0.93679,     0.93694,     0.93709,     0.93724,      0.9374,     0.93755,      0.9377,     0.93785,     0.93801,     0.93816,     0.93831,     0.93846,     0.93862,     0.93877,     0.93892,     0.93908,     0.93923,     0.93922,     0.93919,\n",
              "            0.93915,     0.93911,     0.93908,     0.93904,       0.939,     0.93897,     0.93886,     0.93874,     0.93894,     0.93957,     0.94019,     0.94081,     0.94143,     0.94205,     0.94267,     0.94326,     0.94374,     0.94422,      0.9447,     0.94518,     0.94567,     0.94615,     0.94663,\n",
              "            0.94711,     0.94759,     0.94758,     0.94754,      0.9475,     0.94746,     0.94742,     0.94738,     0.94725,     0.94781,     0.95034,     0.95195,      0.9525,     0.95306,     0.95361,     0.95417,     0.95472,     0.95528,     0.95583,     0.95637,      0.9568,     0.95723,     0.95766,\n",
              "            0.95809,     0.95852,     0.95895,     0.95938,     0.95981,     0.96024,     0.96067,     0.96103,     0.96123,     0.96142,     0.96162,     0.96181,     0.96201,     0.96221,      0.9624,      0.9626,     0.96279,     0.96299,     0.96319,     0.96338,     0.96358,     0.96377,     0.96397,\n",
              "            0.96416,     0.96436,     0.96456,     0.96475,     0.96495,     0.96514,     0.96534,     0.96553,     0.96566,     0.96552,     0.96544,     0.96536,     0.96524,     0.96512,     0.96501,     0.96499,     0.96498,     0.96497,     0.96496,     0.96495,     0.96494,     0.96494,     0.96493,\n",
              "            0.96492,     0.96491,      0.9649,     0.96489,     0.96488,     0.96487,     0.96486,     0.96485,     0.96484,     0.96483,     0.96529,     0.96836,     0.97472,     0.97505,     0.97538,      0.9757,     0.97603,     0.97636,     0.97668,     0.97701,     0.97733,     0.97766,     0.97799,\n",
              "            0.97831,     0.97864,     0.97897,     0.97929,     0.97959,     0.97956,     0.97954,     0.97951,     0.97938,     0.97935,     0.97931,     0.97928,     0.97925,     0.97922,      0.9792,     0.97917,     0.97992,     0.98079,     0.98167,     0.98254,     0.98341,     0.98428,      0.9842,\n",
              "            0.98418,     0.98416,     0.98414,     0.98412,      0.9841,     0.98407,     0.98405,     0.98404,     0.98404,     0.98404,     0.98403,     0.98403,     0.98403,     0.98402,     0.98402,     0.98402,     0.98402,     0.98401,     0.98401,     0.98401,     0.98401,       0.984,       0.984,\n",
              "              0.984,     0.98399,     0.98399,     0.98399,     0.98399,     0.98398,     0.98398,     0.98398,     0.98398,     0.98397,     0.98397,     0.98397,     0.98396,     0.98396,     0.98396,     0.98394,     0.98389,     0.98385,      0.9838,     0.98378,     0.98376,     0.98374,     0.98373,\n",
              "            0.98371,      0.9837,     0.98363,     0.98351,     0.98351,      0.9835,     0.98349,     0.98349,     0.98348,     0.98347,     0.98347,     0.98346,     0.98345,     0.98345,     0.98344,     0.98343,     0.98343,     0.98342,     0.98341,      0.9834,      0.9834,     0.98339,     0.98338,\n",
              "            0.98337,     0.98336,     0.98336,     0.98335,     0.98334,     0.98333,     0.98332,      0.9833,     0.98329,     0.98327,     0.98326,     0.98325,     0.98323,      0.9832,     0.98317,     0.98314,     0.98311,     0.98308,     0.98304,     0.98295,     0.98294,     0.98292,      0.9829,\n",
              "            0.98289,     0.98287,     0.98284,     0.98276,     0.98274,     0.98271,     0.98269,     0.98267,     0.98265,     0.98264,     0.98263,     0.98262,     0.98261,      0.9826,     0.98258,     0.98257,     0.98256,     0.98378,     0.98535,     0.98692,      0.9883,      0.9883,     0.98829,\n",
              "            0.98829,     0.98828,     0.98828,     0.98828,     0.98827,     0.98827,     0.98826,     0.98826,     0.98825,     0.98825,     0.98824,     0.98824,     0.98877,        0.99,     0.99123,     0.99247,      0.9937,     0.99407,     0.99405,     0.99404,     0.99403,     0.99414,     0.99822,\n",
              "                  1,           1,           1,           1,           1,           1,           1,           1,           1,           1,           1,           1,           1,           1,           1,           1,           1,           1,           1,           1,           1,           1,           1,\n",
              "                  1,           1,           1,           1,           1,           1,           1,           1,           1,           1,           1,           1,           1,           1,           1,           1,           1,           1,           1,           1,           1,           1,           1,\n",
              "                  1,           1,           1,           1,           1,           1,           1,           1,           1,           1,           1,           1,           1,           1,           1,           1,           1,           1,           1,           1,           1,           1,           1,\n",
              "                  1,           1,           1,           1,           1,           1,           1,           1,           1,           1,           1,           1,           1,           1,           1,           1,           1,           1,           1,           1,           1,           1,           1,\n",
              "                  1,           1,           1,           1,           1,           1,           1,           1,           1,           1,           1,           1,           1,           1,           1,           1,           1,           1,           1,           1,           1,           1,           1,\n",
              "                  1,           1,           1,           1,           1,           1,           1,           1,           1,           1,           1,           1,           1,           1,           1,           1,           1,           1,           1,           1,           1,           1,           1,\n",
              "                  1,           1,           1,           1,           1,           1,           1,           1,           1,           1,           1,           1,           1,           1,           1,           1,           1,           1,           1,           1,           1,           1,           1,\n",
              "                  1,           1,           1,           1,           1,           1,           1,           1,           1,           1,           1,           1,           1,           1,           1,           1,           1,           1,           1,           1,           1,           1,           1,\n",
              "                  1,           1,           1,           1,           1,           1,           1,           1,           1,           1,           1,           1,           1,           1,           1,           1,           1,           1,           1,           1,           1,           1,           1,\n",
              "                  1,           1,           1,           1,           1,           1,           1,           1,           1,           1,           1,           1,           1,           1,           1,           1,           1,           1,           1,           1,           1,           1,           1,\n",
              "                  1,           1,           1,           1,           1,           1,           1,           1,           1,           1,           1,           1,           1,           1,           1,           1,           1,           1,           1,           1,           1,           1,           1,\n",
              "                  1,           1,           1,           1,           1,           1,           1,           1,           1,           1,           1]]), 'Confidence', 'Precision'], [array([          0,    0.001001,    0.002002,    0.003003,    0.004004,    0.005005,    0.006006,    0.007007,    0.008008,    0.009009,     0.01001,    0.011011,    0.012012,    0.013013,    0.014014,    0.015015,    0.016016,    0.017017,    0.018018,    0.019019,     0.02002,    0.021021,    0.022022,    0.023023,\n",
              "          0.024024,    0.025025,    0.026026,    0.027027,    0.028028,    0.029029,     0.03003,    0.031031,    0.032032,    0.033033,    0.034034,    0.035035,    0.036036,    0.037037,    0.038038,    0.039039,     0.04004,    0.041041,    0.042042,    0.043043,    0.044044,    0.045045,    0.046046,    0.047047,\n",
              "          0.048048,    0.049049,     0.05005,    0.051051,    0.052052,    0.053053,    0.054054,    0.055055,    0.056056,    0.057057,    0.058058,    0.059059,     0.06006,    0.061061,    0.062062,    0.063063,    0.064064,    0.065065,    0.066066,    0.067067,    0.068068,    0.069069,     0.07007,    0.071071,\n",
              "          0.072072,    0.073073,    0.074074,    0.075075,    0.076076,    0.077077,    0.078078,    0.079079,     0.08008,    0.081081,    0.082082,    0.083083,    0.084084,    0.085085,    0.086086,    0.087087,    0.088088,    0.089089,     0.09009,    0.091091,    0.092092,    0.093093,    0.094094,    0.095095,\n",
              "          0.096096,    0.097097,    0.098098,    0.099099,      0.1001,      0.1011,      0.1021,      0.1031,      0.1041,     0.10511,     0.10611,     0.10711,     0.10811,     0.10911,     0.11011,     0.11111,     0.11211,     0.11311,     0.11411,     0.11512,     0.11612,     0.11712,     0.11812,     0.11912,\n",
              "           0.12012,     0.12112,     0.12212,     0.12312,     0.12412,     0.12513,     0.12613,     0.12713,     0.12813,     0.12913,     0.13013,     0.13113,     0.13213,     0.13313,     0.13413,     0.13514,     0.13614,     0.13714,     0.13814,     0.13914,     0.14014,     0.14114,     0.14214,     0.14314,\n",
              "           0.14414,     0.14515,     0.14615,     0.14715,     0.14815,     0.14915,     0.15015,     0.15115,     0.15215,     0.15315,     0.15415,     0.15516,     0.15616,     0.15716,     0.15816,     0.15916,     0.16016,     0.16116,     0.16216,     0.16316,     0.16416,     0.16517,     0.16617,     0.16717,\n",
              "           0.16817,     0.16917,     0.17017,     0.17117,     0.17217,     0.17317,     0.17417,     0.17518,     0.17618,     0.17718,     0.17818,     0.17918,     0.18018,     0.18118,     0.18218,     0.18318,     0.18418,     0.18519,     0.18619,     0.18719,     0.18819,     0.18919,     0.19019,     0.19119,\n",
              "           0.19219,     0.19319,     0.19419,      0.1952,      0.1962,      0.1972,      0.1982,      0.1992,      0.2002,      0.2012,      0.2022,      0.2032,      0.2042,     0.20521,     0.20621,     0.20721,     0.20821,     0.20921,     0.21021,     0.21121,     0.21221,     0.21321,     0.21421,     0.21522,\n",
              "           0.21622,     0.21722,     0.21822,     0.21922,     0.22022,     0.22122,     0.22222,     0.22322,     0.22422,     0.22523,     0.22623,     0.22723,     0.22823,     0.22923,     0.23023,     0.23123,     0.23223,     0.23323,     0.23423,     0.23524,     0.23624,     0.23724,     0.23824,     0.23924,\n",
              "           0.24024,     0.24124,     0.24224,     0.24324,     0.24424,     0.24525,     0.24625,     0.24725,     0.24825,     0.24925,     0.25025,     0.25125,     0.25225,     0.25325,     0.25425,     0.25526,     0.25626,     0.25726,     0.25826,     0.25926,     0.26026,     0.26126,     0.26226,     0.26326,\n",
              "           0.26426,     0.26527,     0.26627,     0.26727,     0.26827,     0.26927,     0.27027,     0.27127,     0.27227,     0.27327,     0.27427,     0.27528,     0.27628,     0.27728,     0.27828,     0.27928,     0.28028,     0.28128,     0.28228,     0.28328,     0.28428,     0.28529,     0.28629,     0.28729,\n",
              "           0.28829,     0.28929,     0.29029,     0.29129,     0.29229,     0.29329,     0.29429,      0.2953,      0.2963,      0.2973,      0.2983,      0.2993,      0.3003,      0.3013,      0.3023,      0.3033,      0.3043,     0.30531,     0.30631,     0.30731,     0.30831,     0.30931,     0.31031,     0.31131,\n",
              "           0.31231,     0.31331,     0.31431,     0.31532,     0.31632,     0.31732,     0.31832,     0.31932,     0.32032,     0.32132,     0.32232,     0.32332,     0.32432,     0.32533,     0.32633,     0.32733,     0.32833,     0.32933,     0.33033,     0.33133,     0.33233,     0.33333,     0.33433,     0.33534,\n",
              "           0.33634,     0.33734,     0.33834,     0.33934,     0.34034,     0.34134,     0.34234,     0.34334,     0.34434,     0.34535,     0.34635,     0.34735,     0.34835,     0.34935,     0.35035,     0.35135,     0.35235,     0.35335,     0.35435,     0.35536,     0.35636,     0.35736,     0.35836,     0.35936,\n",
              "           0.36036,     0.36136,     0.36236,     0.36336,     0.36436,     0.36537,     0.36637,     0.36737,     0.36837,     0.36937,     0.37037,     0.37137,     0.37237,     0.37337,     0.37437,     0.37538,     0.37638,     0.37738,     0.37838,     0.37938,     0.38038,     0.38138,     0.38238,     0.38338,\n",
              "           0.38438,     0.38539,     0.38639,     0.38739,     0.38839,     0.38939,     0.39039,     0.39139,     0.39239,     0.39339,     0.39439,      0.3954,      0.3964,      0.3974,      0.3984,      0.3994,      0.4004,      0.4014,      0.4024,      0.4034,      0.4044,     0.40541,     0.40641,     0.40741,\n",
              "           0.40841,     0.40941,     0.41041,     0.41141,     0.41241,     0.41341,     0.41441,     0.41542,     0.41642,     0.41742,     0.41842,     0.41942,     0.42042,     0.42142,     0.42242,     0.42342,     0.42442,     0.42543,     0.42643,     0.42743,     0.42843,     0.42943,     0.43043,     0.43143,\n",
              "           0.43243,     0.43343,     0.43443,     0.43544,     0.43644,     0.43744,     0.43844,     0.43944,     0.44044,     0.44144,     0.44244,     0.44344,     0.44444,     0.44545,     0.44645,     0.44745,     0.44845,     0.44945,     0.45045,     0.45145,     0.45245,     0.45345,     0.45445,     0.45546,\n",
              "           0.45646,     0.45746,     0.45846,     0.45946,     0.46046,     0.46146,     0.46246,     0.46346,     0.46446,     0.46547,     0.46647,     0.46747,     0.46847,     0.46947,     0.47047,     0.47147,     0.47247,     0.47347,     0.47447,     0.47548,     0.47648,     0.47748,     0.47848,     0.47948,\n",
              "           0.48048,     0.48148,     0.48248,     0.48348,     0.48448,     0.48549,     0.48649,     0.48749,     0.48849,     0.48949,     0.49049,     0.49149,     0.49249,     0.49349,     0.49449,      0.4955,      0.4965,      0.4975,      0.4985,      0.4995,      0.5005,      0.5015,      0.5025,      0.5035,\n",
              "            0.5045,     0.50551,     0.50651,     0.50751,     0.50851,     0.50951,     0.51051,     0.51151,     0.51251,     0.51351,     0.51451,     0.51552,     0.51652,     0.51752,     0.51852,     0.51952,     0.52052,     0.52152,     0.52252,     0.52352,     0.52452,     0.52553,     0.52653,     0.52753,\n",
              "           0.52853,     0.52953,     0.53053,     0.53153,     0.53253,     0.53353,     0.53453,     0.53554,     0.53654,     0.53754,     0.53854,     0.53954,     0.54054,     0.54154,     0.54254,     0.54354,     0.54454,     0.54555,     0.54655,     0.54755,     0.54855,     0.54955,     0.55055,     0.55155,\n",
              "           0.55255,     0.55355,     0.55455,     0.55556,     0.55656,     0.55756,     0.55856,     0.55956,     0.56056,     0.56156,     0.56256,     0.56356,     0.56456,     0.56557,     0.56657,     0.56757,     0.56857,     0.56957,     0.57057,     0.57157,     0.57257,     0.57357,     0.57457,     0.57558,\n",
              "           0.57658,     0.57758,     0.57858,     0.57958,     0.58058,     0.58158,     0.58258,     0.58358,     0.58458,     0.58559,     0.58659,     0.58759,     0.58859,     0.58959,     0.59059,     0.59159,     0.59259,     0.59359,     0.59459,      0.5956,      0.5966,      0.5976,      0.5986,      0.5996,\n",
              "            0.6006,      0.6016,      0.6026,      0.6036,      0.6046,     0.60561,     0.60661,     0.60761,     0.60861,     0.60961,     0.61061,     0.61161,     0.61261,     0.61361,     0.61461,     0.61562,     0.61662,     0.61762,     0.61862,     0.61962,     0.62062,     0.62162,     0.62262,     0.62362,\n",
              "           0.62462,     0.62563,     0.62663,     0.62763,     0.62863,     0.62963,     0.63063,     0.63163,     0.63263,     0.63363,     0.63463,     0.63564,     0.63664,     0.63764,     0.63864,     0.63964,     0.64064,     0.64164,     0.64264,     0.64364,     0.64464,     0.64565,     0.64665,     0.64765,\n",
              "           0.64865,     0.64965,     0.65065,     0.65165,     0.65265,     0.65365,     0.65465,     0.65566,     0.65666,     0.65766,     0.65866,     0.65966,     0.66066,     0.66166,     0.66266,     0.66366,     0.66466,     0.66567,     0.66667,     0.66767,     0.66867,     0.66967,     0.67067,     0.67167,\n",
              "           0.67267,     0.67367,     0.67467,     0.67568,     0.67668,     0.67768,     0.67868,     0.67968,     0.68068,     0.68168,     0.68268,     0.68368,     0.68468,     0.68569,     0.68669,     0.68769,     0.68869,     0.68969,     0.69069,     0.69169,     0.69269,     0.69369,     0.69469,      0.6957,\n",
              "            0.6967,      0.6977,      0.6987,      0.6997,      0.7007,      0.7017,      0.7027,      0.7037,      0.7047,     0.70571,     0.70671,     0.70771,     0.70871,     0.70971,     0.71071,     0.71171,     0.71271,     0.71371,     0.71471,     0.71572,     0.71672,     0.71772,     0.71872,     0.71972,\n",
              "           0.72072,     0.72172,     0.72272,     0.72372,     0.72472,     0.72573,     0.72673,     0.72773,     0.72873,     0.72973,     0.73073,     0.73173,     0.73273,     0.73373,     0.73473,     0.73574,     0.73674,     0.73774,     0.73874,     0.73974,     0.74074,     0.74174,     0.74274,     0.74374,\n",
              "           0.74474,     0.74575,     0.74675,     0.74775,     0.74875,     0.74975,     0.75075,     0.75175,     0.75275,     0.75375,     0.75475,     0.75576,     0.75676,     0.75776,     0.75876,     0.75976,     0.76076,     0.76176,     0.76276,     0.76376,     0.76476,     0.76577,     0.76677,     0.76777,\n",
              "           0.76877,     0.76977,     0.77077,     0.77177,     0.77277,     0.77377,     0.77477,     0.77578,     0.77678,     0.77778,     0.77878,     0.77978,     0.78078,     0.78178,     0.78278,     0.78378,     0.78478,     0.78579,     0.78679,     0.78779,     0.78879,     0.78979,     0.79079,     0.79179,\n",
              "           0.79279,     0.79379,     0.79479,      0.7958,      0.7968,      0.7978,      0.7988,      0.7998,      0.8008,      0.8018,      0.8028,      0.8038,      0.8048,     0.80581,     0.80681,     0.80781,     0.80881,     0.80981,     0.81081,     0.81181,     0.81281,     0.81381,     0.81481,     0.81582,\n",
              "           0.81682,     0.81782,     0.81882,     0.81982,     0.82082,     0.82182,     0.82282,     0.82382,     0.82482,     0.82583,     0.82683,     0.82783,     0.82883,     0.82983,     0.83083,     0.83183,     0.83283,     0.83383,     0.83483,     0.83584,     0.83684,     0.83784,     0.83884,     0.83984,\n",
              "           0.84084,     0.84184,     0.84284,     0.84384,     0.84484,     0.84585,     0.84685,     0.84785,     0.84885,     0.84985,     0.85085,     0.85185,     0.85285,     0.85385,     0.85485,     0.85586,     0.85686,     0.85786,     0.85886,     0.85986,     0.86086,     0.86186,     0.86286,     0.86386,\n",
              "           0.86486,     0.86587,     0.86687,     0.86787,     0.86887,     0.86987,     0.87087,     0.87187,     0.87287,     0.87387,     0.87487,     0.87588,     0.87688,     0.87788,     0.87888,     0.87988,     0.88088,     0.88188,     0.88288,     0.88388,     0.88488,     0.88589,     0.88689,     0.88789,\n",
              "           0.88889,     0.88989,     0.89089,     0.89189,     0.89289,     0.89389,     0.89489,      0.8959,      0.8969,      0.8979,      0.8989,      0.8999,      0.9009,      0.9019,      0.9029,      0.9039,      0.9049,     0.90591,     0.90691,     0.90791,     0.90891,     0.90991,     0.91091,     0.91191,\n",
              "           0.91291,     0.91391,     0.91491,     0.91592,     0.91692,     0.91792,     0.91892,     0.91992,     0.92092,     0.92192,     0.92292,     0.92392,     0.92492,     0.92593,     0.92693,     0.92793,     0.92893,     0.92993,     0.93093,     0.93193,     0.93293,     0.93393,     0.93493,     0.93594,\n",
              "           0.93694,     0.93794,     0.93894,     0.93994,     0.94094,     0.94194,     0.94294,     0.94394,     0.94494,     0.94595,     0.94695,     0.94795,     0.94895,     0.94995,     0.95095,     0.95195,     0.95295,     0.95395,     0.95495,     0.95596,     0.95696,     0.95796,     0.95896,     0.95996,\n",
              "           0.96096,     0.96196,     0.96296,     0.96396,     0.96496,     0.96597,     0.96697,     0.96797,     0.96897,     0.96997,     0.97097,     0.97197,     0.97297,     0.97397,     0.97497,     0.97598,     0.97698,     0.97798,     0.97898,     0.97998,     0.98098,     0.98198,     0.98298,     0.98398,\n",
              "           0.98498,     0.98599,     0.98699,     0.98799,     0.98899,     0.98999,     0.99099,     0.99199,     0.99299,     0.99399,     0.99499,       0.996,       0.997,       0.998,       0.999,           1]), array([[    0.99585,     0.99585,     0.98755,     0.97925,     0.97925,      0.9751,      0.9751,     0.96266,     0.95851,     0.95851,     0.95436,     0.95436,     0.95021,     0.95021,     0.95021,     0.94606,     0.94606,     0.94606,     0.94606,     0.94606,     0.94606,     0.94606,     0.94606,\n",
              "            0.94191,     0.94191,     0.94191,     0.94191,     0.94191,     0.94191,     0.94191,     0.94191,     0.94191,     0.94191,     0.94191,     0.94191,     0.94191,     0.94191,     0.94191,     0.94191,     0.94191,     0.94191,     0.94191,     0.94191,     0.94191,     0.94191,     0.94191,\n",
              "            0.94191,     0.94191,     0.94191,     0.94191,     0.94191,     0.94191,     0.94191,     0.94191,     0.93776,     0.93776,     0.93776,     0.93776,     0.93361,     0.93361,     0.93361,     0.93361,     0.93361,     0.93361,     0.93361,     0.93361,     0.93361,     0.93361,     0.93306,\n",
              "            0.92946,     0.92946,     0.92946,     0.92946,     0.92774,     0.92531,     0.92531,     0.92531,     0.92531,     0.92531,     0.92531,     0.92531,     0.92531,     0.92531,     0.92531,     0.92531,     0.92531,     0.92531,     0.92531,     0.92531,     0.92531,     0.92531,     0.92531,\n",
              "            0.92531,     0.92531,     0.92531,     0.92531,     0.92531,     0.92531,     0.92531,     0.92531,     0.92531,     0.92531,     0.92531,     0.92348,     0.92116,     0.92116,     0.92116,     0.92116,     0.91981,      0.9171,     0.91701,     0.91701,     0.91701,     0.91701,     0.91701,\n",
              "            0.91701,     0.91701,     0.91701,     0.91701,     0.91701,     0.91662,      0.9156,     0.91459,     0.91357,     0.91286,     0.91286,     0.91286,     0.91286,     0.91147,     0.90912,     0.90871,     0.90871,     0.90871,     0.90871,     0.90871,     0.90871,     0.90871,     0.90871,\n",
              "            0.90871,     0.90871,     0.90737,     0.90552,     0.90456,     0.90456,     0.90447,     0.90342,     0.90237,     0.90132,     0.90041,     0.90041,     0.90041,     0.90041,     0.90041,     0.90041,     0.90041,     0.90041,     0.90041,     0.90041,     0.90041,     0.90007,     0.89968,\n",
              "            0.89928,     0.89888,     0.89849,     0.89809,     0.89769,     0.89729,      0.8969,      0.8965,     0.89627,     0.89627,     0.89627,     0.89627,     0.89627,     0.89627,     0.89627,     0.89627,     0.89627,     0.89627,     0.89627,     0.89627,     0.89627,     0.89627,     0.89627,\n",
              "            0.89627,     0.89627,     0.89627,     0.89627,     0.89627,     0.89627,     0.89627,     0.89627,     0.89627,     0.89627,     0.89627,     0.89627,     0.89627,     0.89627,     0.89627,     0.89627,     0.89627,     0.89627,     0.89494,     0.89221,     0.89212,     0.89212,     0.89212,\n",
              "            0.89212,     0.89212,     0.89212,     0.89212,     0.89212,     0.89212,     0.89212,     0.89212,     0.89212,     0.89212,     0.89212,     0.89212,     0.89212,     0.89212,     0.89212,     0.89212,     0.88922,     0.88797,     0.88797,     0.88797,     0.88797,     0.88797,     0.88797,\n",
              "            0.88797,     0.88797,     0.88797,     0.88797,     0.88797,     0.88797,     0.88797,     0.88797,     0.88797,     0.88797,     0.88797,     0.88797,     0.88797,     0.88797,     0.88797,     0.88797,     0.88797,     0.88797,     0.88797,     0.88797,     0.88797,     0.88797,     0.88797,\n",
              "            0.88797,     0.88797,     0.88797,     0.88797,     0.88693,     0.88515,     0.88382,     0.88382,     0.88193,        0.88,     0.87967,     0.87967,     0.87939,      0.8787,     0.87802,     0.87734,     0.87665,     0.87597,     0.87552,     0.87552,     0.87552,     0.87552,     0.87552,\n",
              "            0.87552,     0.87552,     0.87552,     0.87552,     0.87552,     0.87552,     0.87552,     0.87137,     0.87137,     0.87137,     0.87137,     0.87137,     0.87137,     0.87137,     0.87137,     0.87137,     0.86722,     0.86672,     0.86585,     0.86498,     0.86412,     0.86325,     0.86235,\n",
              "            0.86144,     0.86053,     0.85961,     0.85715,     0.85469,     0.85456,     0.85443,      0.8543,     0.85417,     0.85405,     0.85392,     0.85379,     0.85366,     0.85354,     0.85341,     0.85328,     0.85315,     0.85302,      0.8529,     0.85277,     0.85264,     0.85251,     0.85239,\n",
              "            0.85226,     0.85213,       0.852,     0.85187,     0.85175,     0.85162,     0.85149,     0.85136,     0.85124,     0.85111,     0.85098,     0.85085,     0.85073,     0.85062,     0.85062,     0.85062,     0.85062,     0.85062,     0.85062,     0.85062,     0.85062,     0.85062,     0.85062,\n",
              "            0.84647,     0.84647,     0.84647,     0.84647,     0.84647,     0.84647,     0.84647,     0.84647,     0.84647,     0.84647,     0.84647,     0.84647,     0.84647,     0.84647,     0.84647,     0.84647,     0.84647,     0.84647,     0.84647,     0.84647,     0.84647,     0.84647,     0.84647,\n",
              "            0.84574,     0.84474,     0.84374,     0.84273,     0.84232,     0.84232,     0.84232,     0.84232,     0.84232,     0.84232,     0.84232,     0.84232,     0.84232,     0.84232,     0.84232,     0.84232,     0.84232,     0.84232,     0.84232,     0.84232,     0.84232,     0.84232,     0.84232,\n",
              "            0.84232,     0.84232,     0.84232,     0.84232,     0.84232,     0.84232,     0.84232,     0.84232,     0.84232,     0.84232,     0.84232,     0.84232,     0.84232,     0.84232,     0.84232,     0.84232,     0.84232,     0.84232,     0.84232,     0.84232,     0.84232,     0.84232,     0.84232,\n",
              "            0.84232,     0.84232,     0.84169,     0.84096,     0.84023,      0.8395,     0.83877,     0.83807,     0.83753,       0.837,     0.83646,     0.83592,     0.83538,     0.83484,     0.83431,     0.83402,     0.83402,     0.83402,     0.83402,     0.83402,     0.83402,     0.83402,     0.83402,\n",
              "            0.83402,     0.83402,     0.83402,     0.83402,     0.83402,     0.83402,     0.83402,     0.83402,     0.83402,     0.83402,     0.83402,     0.83402,     0.83402,     0.83402,     0.83402,     0.83402,     0.83402,     0.83402,     0.83402,     0.83402,     0.83402,     0.83358,     0.83306,\n",
              "            0.83253,       0.832,     0.83148,     0.83095,     0.83042,      0.8299,     0.82831,     0.82667,     0.82573,     0.82573,     0.82573,     0.82573,     0.82573,     0.82573,     0.82573,     0.82573,     0.82573,     0.82573,     0.82573,     0.82573,     0.82573,     0.82573,     0.82573,\n",
              "            0.82573,     0.82573,      0.8251,     0.82444,     0.82379,     0.82313,     0.82247,     0.82181,     0.81963,     0.81743,     0.81743,     0.81743,     0.81743,     0.81743,     0.81743,     0.81743,     0.81743,     0.81743,     0.81743,     0.81743,     0.81743,     0.81743,     0.81743,\n",
              "            0.81743,     0.81743,     0.81743,     0.81743,     0.81743,     0.81743,     0.81743,     0.81743,     0.81743,     0.81743,     0.81743,     0.81743,     0.81743,     0.81743,     0.81743,     0.81743,     0.81743,     0.81743,     0.81743,     0.81743,     0.81743,     0.81743,     0.81743,\n",
              "            0.81743,     0.81743,     0.81743,     0.81743,     0.81743,     0.81743,     0.81743,     0.81743,     0.81666,      0.8133,     0.81142,     0.80956,     0.80664,     0.80369,     0.80103,     0.80063,      0.8004,     0.80018,     0.79996,     0.79974,     0.79952,      0.7993,     0.79908,\n",
              "            0.79886,     0.79864,     0.79842,     0.79819,     0.79797,     0.79775,     0.79753,     0.79731,     0.79709,     0.79687,     0.79668,     0.79668,     0.79668,     0.79668,     0.79668,     0.79668,     0.79668,     0.79668,     0.79668,     0.79668,     0.79668,     0.79668,     0.79668,\n",
              "            0.79668,     0.79668,     0.79668,     0.79668,     0.79659,     0.79551,     0.79443,     0.79335,     0.78828,     0.78699,     0.78569,     0.78439,     0.78333,     0.78229,     0.78125,     0.78022,     0.78008,     0.78008,     0.78008,     0.78008,     0.78008,     0.78008,     0.77539,\n",
              "            0.77445,      0.7735,     0.77256,     0.77157,     0.77036,     0.76914,     0.76793,     0.76754,      0.7674,     0.76727,     0.76714,     0.76701,     0.76687,     0.76674,     0.76661,     0.76648,     0.76635,     0.76621,     0.76608,     0.76595,     0.76582,     0.76569,     0.76555,\n",
              "            0.76542,     0.76529,     0.76516,     0.76503,     0.76489,     0.76476,     0.76463,      0.7645,     0.76437,     0.76423,      0.7641,     0.76397,     0.76384,     0.76371,     0.76357,     0.76272,     0.76042,     0.75823,     0.75613,     0.75478,     0.75403,     0.75328,     0.75254,\n",
              "            0.75179,     0.75104,     0.74779,      0.7426,      0.7423,       0.742,      0.7417,      0.7414,      0.7411,      0.7408,      0.7405,      0.7402,      0.7399,      0.7396,      0.7393,       0.739,      0.7387,     0.73836,     0.73799,     0.73763,     0.73726,      0.7369,     0.73653,\n",
              "            0.73617,      0.7358,     0.73544,     0.73507,     0.73471,     0.73428,     0.73366,     0.73305,     0.73243,     0.73181,     0.73119,     0.73058,     0.72965,     0.72845,     0.72725,     0.72604,     0.72462,      0.7232,     0.72141,     0.71776,     0.71706,     0.71637,     0.71567,\n",
              "            0.71497,     0.71428,     0.71314,     0.70969,     0.70864,     0.70769,     0.70674,     0.70579,     0.70512,     0.70465,     0.70418,     0.70371,     0.70324,     0.70276,     0.70229,     0.70182,     0.70135,     0.70124,     0.70124,     0.70124,     0.70121,     0.70093,     0.70065,\n",
              "            0.70036,     0.70008,      0.6998,     0.69952,     0.69923,     0.69895,     0.69867,     0.69839,      0.6981,     0.69782,     0.69754,     0.69726,      0.6971,      0.6971,      0.6971,      0.6971,      0.6971,     0.69574,     0.69377,       0.692,     0.69037,      0.6888,      0.6888,\n",
              "            0.68807,     0.68677,     0.68547,     0.68044,     0.67988,     0.67932,     0.67876,      0.6782,     0.67764,     0.67708,     0.67652,     0.67585,     0.67511,     0.67438,     0.67364,     0.67291,      0.6718,     0.66724,     0.66604,     0.66484,     0.65943,     0.65738,     0.65551,\n",
              "            0.65481,     0.65412,     0.65342,     0.65273,     0.65203,     0.65112,     0.64908,     0.64666,     0.63883,     0.63781,     0.63678,     0.63576,     0.63367,     0.62934,     0.62746,      0.6255,     0.62347,     0.62202,     0.62121,      0.6204,     0.61959,     0.61878,     0.61674,\n",
              "            0.61182,     0.60917,     0.60802,     0.60687,      0.6057,      0.6044,     0.60309,     0.60179,     0.59718,     0.59604,      0.5949,     0.59376,     0.59238,     0.59087,     0.58935,     0.58587,     0.57525,     0.56799,     0.56734,     0.56669,     0.56603,     0.56538,     0.56473,\n",
              "            0.56254,     0.55936,     0.55778,      0.5562,     0.55389,     0.55114,     0.54678,      0.5429,     0.53445,     0.53201,     0.52926,     0.52675,     0.52572,     0.52468,     0.52365,     0.51705,     0.51074,     0.50609,     0.50182,     0.49871,     0.49731,     0.49648,     0.49566,\n",
              "            0.49483,     0.49401,     0.49289,     0.49166,     0.49042,     0.48926,     0.48822,     0.48719,     0.48615,      0.4834,     0.46645,     0.46265,     0.45899,     0.44861,      0.4395,     0.43502,     0.43384,     0.43266,     0.43147,     0.43006,     0.42864,      0.4254,     0.41806,\n",
              "            0.41656,     0.41507,     0.40757,     0.40198,     0.39999,     0.39801,     0.39606,     0.39399,     0.38956,     0.38748,      0.3842,     0.37641,     0.37453,     0.36885,     0.36733,     0.36581,     0.36022,     0.35817,     0.35461,     0.34189,     0.33352,     0.32751,     0.32533,\n",
              "            0.32208,     0.31126,     0.30659,     0.30456,     0.29791,      0.2901,     0.28802,     0.28598,     0.28413,     0.28228,     0.28003,     0.27785,     0.27652,     0.27519,     0.27386,     0.26465,     0.26194,     0.25856,     0.25318,     0.24369,     0.24119,     0.23609,     0.23331,\n",
              "            0.22977,     0.21989,     0.21841,     0.21692,     0.21398,     0.20341,     0.20164,     0.19995,     0.19149,      0.1881,     0.18185,     0.17672,      0.1621,     0.15826,     0.15176,     0.14932,     0.14426,     0.13996,     0.13567,     0.13353,      0.1253,     0.11872,      0.1167,\n",
              "            0.11353,     0.10244,    0.099233,    0.098044,    0.096856,    0.095667,    0.093105,    0.090387,    0.087966,    0.085487,    0.082938,    0.063004,    0.054646,    0.048376,     0.04138,    0.040164,    0.038948,    0.037732,    0.035044,    0.032691,    0.031577,    0.030463,     0.02935,\n",
              "           0.028453,    0.027639,    0.026824,     0.02601,    0.025195,    0.024379,    0.023562,    0.022746,    0.021929,    0.021112,    0.019733,      0.0179,    0.016333,    0.015418,    0.014503,    0.013589,    0.012674,   0.0076871,   0.0068355,   0.0059839,   0.0051323,   0.0042806,           0,\n",
              "                  0,           0,           0,           0,           0,           0,           0,           0,           0,           0,           0,           0,           0,           0,           0,           0,           0,           0,           0,           0,           0,           0,           0,\n",
              "                  0,           0,           0,           0,           0,           0,           0,           0,           0,           0,           0]]), 'Confidence', 'Recall']]\n",
              "fitness: 0.6890726320925777\n",
              "keys: ['metrics/precision(B)', 'metrics/recall(B)', 'metrics/mAP50(B)', 'metrics/mAP50-95(B)']\n",
              "maps: array([     0.6626])\n",
              "names: {0: 'tumor'}\n",
              "plot: True\n",
              "results_dict: {'metrics/precision(B)': 0.9474621261186431, 'metrics/recall(B)': 0.823128146113636, 'metrics/mAP50(B)': 0.9273371479847619, 'metrics/mAP50-95(B)': 0.6625987969934461, 'fitness': 0.6890726320925777}\n",
              "save_dir: PosixPath('runs/detect/train5')\n",
              "speed: {'preprocess': 8.48071254901032, 'inference': 296.6431824129019, 'loss': 0.00011743004642315764, 'postprocess': 0.9436820870015159}\n",
              "task: 'detect'"
            ]
          },
          "metadata": {},
          "execution_count": 9
        }
      ]
    },
    {
      "cell_type": "code",
      "source": [
        "results = model.predict(source=\"/content/drive/MyDrive/Tumors/test/images\", show=True)"
      ],
      "metadata": {
        "colab": {
          "base_uri": "https://localhost:8080/"
        },
        "id": "t0Z9ru8HWhwC",
        "outputId": "a82a699a-0ec0-4010-c091-1bfa1bb386cc"
      },
      "execution_count": 10,
      "outputs": [
        {
          "output_type": "stream",
          "name": "stdout",
          "text": [
            "WARNING ⚠️ Environment does not support cv2.imshow() or PIL Image.show()\n",
            "\n",
            "\n",
            "image 1/100 /content/drive/MyDrive/Tumors/test/images/y701_jpg.rf.2ecfd5634c3ca52c5ad1f4d726f30a40.jpg: 640x640 1 tumor, 314.7ms\n",
            "image 2/100 /content/drive/MyDrive/Tumors/test/images/y702_jpg.rf.30fed4a6ad98b30c51bdd5c86e6f2d1e.jpg: 640x640 1 tumor, 758.2ms\n",
            "image 3/100 /content/drive/MyDrive/Tumors/test/images/y703_jpg.rf.1789cf62115797babacf49c8be81d74c.jpg: 640x640 1 tumor, 378.9ms\n",
            "image 4/100 /content/drive/MyDrive/Tumors/test/images/y704_jpg.rf.81aca4af861646a66b6e282879b13488.jpg: 640x640 2 tumors, 315.2ms\n",
            "image 5/100 /content/drive/MyDrive/Tumors/test/images/y705_jpg.rf.adec9252865c857a7f8520623e883ef1.jpg: 640x640 1 tumor, 286.3ms\n",
            "image 6/100 /content/drive/MyDrive/Tumors/test/images/y706_jpg.rf.42d69cea985670c99ad77e84c6fa6e31.jpg: 640x640 1 tumor, 202.1ms\n",
            "image 7/100 /content/drive/MyDrive/Tumors/test/images/y707_jpg.rf.53f064e6179f2c00d8fad8d9a2f83446.jpg: 640x640 1 tumor, 201.8ms\n",
            "image 8/100 /content/drive/MyDrive/Tumors/test/images/y708_jpg.rf.352301bb8ca7574f64aebc61a51dda64.jpg: 640x640 2 tumors, 195.6ms\n",
            "image 9/100 /content/drive/MyDrive/Tumors/test/images/y709_jpg.rf.e369f03584e81e83c5c27ed1fd73d3da.jpg: 640x640 1 tumor, 210.7ms\n",
            "image 10/100 /content/drive/MyDrive/Tumors/test/images/y710_jpg.rf.a988cef9b79034c91fa4a89f580acfc6.jpg: 640x640 1 tumor, 198.6ms\n",
            "image 11/100 /content/drive/MyDrive/Tumors/test/images/y711_jpg.rf.ad6ff9bc3830ec089f6587a948f6f3a8.jpg: 640x640 1 tumor, 195.1ms\n",
            "image 12/100 /content/drive/MyDrive/Tumors/test/images/y712_jpg.rf.ccd32a734708e8096b712afb448c8e5e.jpg: 640x640 (no detections), 193.5ms\n",
            "image 13/100 /content/drive/MyDrive/Tumors/test/images/y713_jpg.rf.997d94c0d53c59d4076ab21035f27aa8.jpg: 640x640 1 tumor, 199.2ms\n",
            "image 14/100 /content/drive/MyDrive/Tumors/test/images/y714_jpg.rf.4b9a5ec559ae1f00412607d1820d22d3.jpg: 640x640 2 tumors, 217.4ms\n",
            "image 15/100 /content/drive/MyDrive/Tumors/test/images/y715_jpg.rf.b2894642ae02353cf812f6641cfc85d9.jpg: 640x640 1 tumor, 204.0ms\n",
            "image 16/100 /content/drive/MyDrive/Tumors/test/images/y716_jpg.rf.ab41883f69109506f7cee7319bb32963.jpg: 640x640 2 tumors, 197.5ms\n",
            "image 17/100 /content/drive/MyDrive/Tumors/test/images/y717_jpg.rf.a63b0c08e146120a882016c773f21e74.jpg: 640x640 1 tumor, 200.2ms\n",
            "image 18/100 /content/drive/MyDrive/Tumors/test/images/y718_jpg.rf.541f3b0e827d4fdbe4e8077473ac2770.jpg: 640x640 2 tumors, 191.6ms\n",
            "image 19/100 /content/drive/MyDrive/Tumors/test/images/y719_jpg.rf.2b0cd51e1b0415767b57c30f9ddc10a4.jpg: 640x640 1 tumor, 210.9ms\n",
            "image 20/100 /content/drive/MyDrive/Tumors/test/images/y720_jpg.rf.fc4dd85687d905ad852aa25f4c18d9de.jpg: 640x640 2 tumors, 196.2ms\n",
            "image 21/100 /content/drive/MyDrive/Tumors/test/images/y721_jpg.rf.e9f898c2ab406584001cf96f9508b714.jpg: 640x640 1 tumor, 194.7ms\n",
            "image 22/100 /content/drive/MyDrive/Tumors/test/images/y722_jpg.rf.fc93bc2c8a0c020292548fbbe7232dc3.jpg: 640x640 1 tumor, 201.1ms\n",
            "image 23/100 /content/drive/MyDrive/Tumors/test/images/y723_jpg.rf.a3e5af5751d26fdf11e4b4023e5d3b1a.jpg: 640x640 1 tumor, 206.7ms\n",
            "image 24/100 /content/drive/MyDrive/Tumors/test/images/y724_jpg.rf.0d5f0e835d40af2112dc6bca7b1081b0.jpg: 640x640 1 tumor, 199.0ms\n",
            "image 25/100 /content/drive/MyDrive/Tumors/test/images/y725_jpg.rf.ff4095453bbd69502a8fb4734a10e377.jpg: 640x640 1 tumor, 193.2ms\n",
            "image 26/100 /content/drive/MyDrive/Tumors/test/images/y726_jpg.rf.1940ba6b032b81a7700472fdf5bd2d0b.jpg: 640x640 2 tumors, 196.2ms\n",
            "image 27/100 /content/drive/MyDrive/Tumors/test/images/y727_jpg.rf.45ffd21abf459c9a6bb2fda845d80939.jpg: 640x640 1 tumor, 193.7ms\n",
            "image 28/100 /content/drive/MyDrive/Tumors/test/images/y728_jpg.rf.7734c6eabce7416348789f28a66b7d71.jpg: 640x640 1 tumor, 219.5ms\n",
            "image 29/100 /content/drive/MyDrive/Tumors/test/images/y729_jpg.rf.e354d41d04c3c910ad722f09a19bd9dc.jpg: 640x640 1 tumor, 200.1ms\n",
            "image 30/100 /content/drive/MyDrive/Tumors/test/images/y730_jpg.rf.2d50e258322afd187d1aa3f489ed6095.jpg: 640x640 1 tumor, 198.8ms\n",
            "image 31/100 /content/drive/MyDrive/Tumors/test/images/y731_jpg.rf.5bfb3e637d5b7f12aadc3da0f0cdcfab.jpg: 640x640 2 tumors, 199.1ms\n",
            "image 32/100 /content/drive/MyDrive/Tumors/test/images/y732_jpg.rf.f57ef7563716ea93ff500c742e697aff.jpg: 640x640 1 tumor, 205.6ms\n",
            "image 33/100 /content/drive/MyDrive/Tumors/test/images/y733_jpg.rf.80b30e77dd1dda28a3fea9fe385f8fe2.jpg: 640x640 1 tumor, 204.7ms\n",
            "image 34/100 /content/drive/MyDrive/Tumors/test/images/y734_jpg.rf.d5fcc40c4d21718fda92479361f9da21.jpg: 640x640 2 tumors, 210.2ms\n",
            "image 35/100 /content/drive/MyDrive/Tumors/test/images/y735_jpg.rf.e1dd3cf2a370093f13a0e6fc9c9f73c4.jpg: 640x640 1 tumor, 197.4ms\n",
            "image 36/100 /content/drive/MyDrive/Tumors/test/images/y736_jpg.rf.6eab505bdd4d037c65fbba13db0bf0d5.jpg: 640x640 1 tumor, 203.4ms\n",
            "image 37/100 /content/drive/MyDrive/Tumors/test/images/y737_jpg.rf.fd7f7a9ba76a420f620fa43320e37462.jpg: 640x640 1 tumor, 208.9ms\n",
            "image 38/100 /content/drive/MyDrive/Tumors/test/images/y738_jpg.rf.101b53717b97f014699e35d23b884cd5.jpg: 640x640 3 tumors, 197.5ms\n",
            "image 39/100 /content/drive/MyDrive/Tumors/test/images/y739_jpg.rf.c0c7d917d0f754170e36aff0acb7f829.jpg: 640x640 1 tumor, 211.6ms\n",
            "image 40/100 /content/drive/MyDrive/Tumors/test/images/y740_jpg.rf.e663ea7aa10d0010336b5c7a18a46e98.jpg: 640x640 2 tumors, 214.0ms\n",
            "image 41/100 /content/drive/MyDrive/Tumors/test/images/y741_jpg.rf.f4995f8e0d2209bfff57f4de9d5fbb5b.jpg: 640x640 1 tumor, 201.9ms\n",
            "image 42/100 /content/drive/MyDrive/Tumors/test/images/y742_jpg.rf.0252cf43210dc1ccf4e8c4cb86efd9e0.jpg: 640x640 1 tumor, 200.2ms\n",
            "image 43/100 /content/drive/MyDrive/Tumors/test/images/y743_jpg.rf.91c9f9c72baea53026ccaa90389d9d4e.jpg: 640x640 1 tumor, 203.7ms\n",
            "image 44/100 /content/drive/MyDrive/Tumors/test/images/y744_jpg.rf.38a0b0457514b8dd4e312724d668ef9e.jpg: 640x640 1 tumor, 208.1ms\n",
            "image 45/100 /content/drive/MyDrive/Tumors/test/images/y745_jpg.rf.b9021aae39983bbcf79c45e2fbfc197f.jpg: 640x640 1 tumor, 196.1ms\n",
            "image 46/100 /content/drive/MyDrive/Tumors/test/images/y746_jpg.rf.2d8b72581bb6828b591b5d65605df7e9.jpg: 640x640 2 tumors, 209.4ms\n",
            "image 47/100 /content/drive/MyDrive/Tumors/test/images/y747_jpg.rf.897d9c971797fd4d673b7bd9a28dc63b.jpg: 640x640 1 tumor, 196.5ms\n",
            "image 48/100 /content/drive/MyDrive/Tumors/test/images/y748_jpg.rf.b400f590ed72b557e969014fbf3d435d.jpg: 640x640 2 tumors, 197.7ms\n",
            "image 49/100 /content/drive/MyDrive/Tumors/test/images/y749_jpg.rf.8d1c726aaf27a3910628b5d7f5ad8609.jpg: 640x640 1 tumor, 202.6ms\n",
            "image 50/100 /content/drive/MyDrive/Tumors/test/images/y750_jpg.rf.b521e75a51c917f9c339d7805b2ce81e.jpg: 640x640 1 tumor, 261.6ms\n",
            "image 51/100 /content/drive/MyDrive/Tumors/test/images/y751_jpg.rf.9ce7a9fda71df898c3ee1c740315c66b.jpg: 640x640 1 tumor, 309.6ms\n",
            "image 52/100 /content/drive/MyDrive/Tumors/test/images/y752_jpg.rf.44ac50dac481553c2f6d4df9aa5c2d90.jpg: 640x640 1 tumor, 304.8ms\n",
            "image 53/100 /content/drive/MyDrive/Tumors/test/images/y753_jpg.rf.bd490c2d0e05bd9016a2beb160e4d424.jpg: 640x640 1 tumor, 300.6ms\n",
            "image 54/100 /content/drive/MyDrive/Tumors/test/images/y754_jpg.rf.ff0a17a8e2f7db76a77e7bfdaa0d14e3.jpg: 640x640 1 tumor, 314.2ms\n",
            "image 55/100 /content/drive/MyDrive/Tumors/test/images/y755_jpg.rf.f448b7e2a2a812dd9b1546c3cd302d97.jpg: 640x640 1 tumor, 303.0ms\n",
            "image 56/100 /content/drive/MyDrive/Tumors/test/images/y756_jpg.rf.de44af6b1d174b52bfd64d2c089fe03a.jpg: 640x640 1 tumor, 304.3ms\n",
            "image 57/100 /content/drive/MyDrive/Tumors/test/images/y757_jpg.rf.6b57f359929b6dd727788d98af709c1f.jpg: 640x640 2 tumors, 317.4ms\n",
            "image 58/100 /content/drive/MyDrive/Tumors/test/images/y758_jpg.rf.c55748ae93872e59500aaef78dcb7a34.jpg: 640x640 1 tumor, 314.2ms\n",
            "image 59/100 /content/drive/MyDrive/Tumors/test/images/y759_jpg.rf.87639846f56868c65b8f5bad6558dccb.jpg: 640x640 1 tumor, 314.4ms\n",
            "image 60/100 /content/drive/MyDrive/Tumors/test/images/y760_jpg.rf.02f648dd773fdad9b5b09db1d6a7d94b.jpg: 640x640 1 tumor, 315.7ms\n",
            "image 61/100 /content/drive/MyDrive/Tumors/test/images/y761_jpg.rf.7bfd4dd52ad8c551c7bd1549aee267e4.jpg: 640x640 1 tumor, 338.9ms\n",
            "image 62/100 /content/drive/MyDrive/Tumors/test/images/y762_jpg.rf.154953b616d54028c86bf69ec9dc78d1.jpg: 640x640 1 tumor, 320.6ms\n",
            "image 63/100 /content/drive/MyDrive/Tumors/test/images/y763_jpg.rf.863370ec94777ad7acc53b7f3412d733.jpg: 640x640 1 tumor, 328.6ms\n",
            "image 64/100 /content/drive/MyDrive/Tumors/test/images/y764_jpg.rf.abbb310816d4c8ead940d494d1bbdb58.jpg: 640x640 1 tumor, 253.6ms\n",
            "image 65/100 /content/drive/MyDrive/Tumors/test/images/y765_jpg.rf.91d34290d63c9d82acd1d1df5602e90a.jpg: 640x640 1 tumor, 198.8ms\n",
            "image 66/100 /content/drive/MyDrive/Tumors/test/images/y766_jpg.rf.0f76e15a861e8abc57024d97ad0f232b.jpg: 640x640 1 tumor, 197.5ms\n",
            "image 67/100 /content/drive/MyDrive/Tumors/test/images/y767_jpg.rf.91052f3ff1fb567c762ef9bf045326e3.jpg: 640x640 2 tumors, 224.7ms\n",
            "image 68/100 /content/drive/MyDrive/Tumors/test/images/y768_jpg.rf.097be135506498a0028093941b5c6d57.jpg: 640x640 1 tumor, 200.4ms\n",
            "image 69/100 /content/drive/MyDrive/Tumors/test/images/y769_jpg.rf.89edafe8535a33253c029ddf88ba6c8c.jpg: 640x640 1 tumor, 195.4ms\n",
            "image 70/100 /content/drive/MyDrive/Tumors/test/images/y770_jpg.rf.5cdea35b9ae37bd0894f47b4135dc3f6.jpg: 640x640 1 tumor, 200.1ms\n",
            "image 71/100 /content/drive/MyDrive/Tumors/test/images/y771_jpg.rf.bbbce88d2b9b07120e60cdf0160f8159.jpg: 640x640 2 tumors, 203.4ms\n",
            "image 72/100 /content/drive/MyDrive/Tumors/test/images/y772_jpg.rf.16a3a61c36059afbba14f581cf06f73c.jpg: 640x640 1 tumor, 197.7ms\n",
            "image 73/100 /content/drive/MyDrive/Tumors/test/images/y773_jpg.rf.3b8fad0a5998609a1230aae48cbdfe1b.jpg: 640x640 3 tumors, 200.9ms\n",
            "image 74/100 /content/drive/MyDrive/Tumors/test/images/y774_jpg.rf.52845b655d13935de28eeb655cd0254b.jpg: 640x640 2 tumors, 198.4ms\n",
            "image 75/100 /content/drive/MyDrive/Tumors/test/images/y775_jpg.rf.89ba8c8e130e258850515b67510440fa.jpg: 640x640 1 tumor, 201.2ms\n",
            "image 76/100 /content/drive/MyDrive/Tumors/test/images/y776_jpg.rf.949049ae5216355f6d996308e1ef9c53.jpg: 640x640 1 tumor, 212.8ms\n",
            "image 77/100 /content/drive/MyDrive/Tumors/test/images/y777_jpg.rf.1321c0f8139f37abf22e2a35d65fac00.jpg: 640x640 4 tumors, 203.6ms\n",
            "image 78/100 /content/drive/MyDrive/Tumors/test/images/y778_jpg.rf.c103f99ca67c547dec67fbb5f164e9d1.jpg: 640x640 1 tumor, 199.3ms\n",
            "image 79/100 /content/drive/MyDrive/Tumors/test/images/y779_jpg.rf.d78a48d0a26f331906c9960be5e94c16.jpg: 640x640 1 tumor, 202.5ms\n",
            "image 80/100 /content/drive/MyDrive/Tumors/test/images/y780_jpg.rf.f89aba1ae061c7ee441361fcd1077034.jpg: 640x640 2 tumors, 200.3ms\n",
            "image 81/100 /content/drive/MyDrive/Tumors/test/images/y781_jpg.rf.e7c32a7b2833d7fecff49c29feed01d9.jpg: 640x640 1 tumor, 217.6ms\n",
            "image 82/100 /content/drive/MyDrive/Tumors/test/images/y782_jpg.rf.95d59f5f47de3c377ddd2d0710656920.jpg: 640x640 1 tumor, 197.9ms\n",
            "image 83/100 /content/drive/MyDrive/Tumors/test/images/y783_jpg.rf.66711d2d546a9825d6c2a6b9c7d43b84.jpg: 640x640 1 tumor, 199.6ms\n",
            "image 84/100 /content/drive/MyDrive/Tumors/test/images/y784_jpg.rf.4cb151b7bf43b7ffafbd6962ef9a958a.jpg: 640x640 1 tumor, 205.0ms\n",
            "image 85/100 /content/drive/MyDrive/Tumors/test/images/y785_jpg.rf.96f1175d32d7f74ee125e22732608914.jpg: 640x640 3 tumors, 211.1ms\n",
            "image 86/100 /content/drive/MyDrive/Tumors/test/images/y786_jpg.rf.74554e92c06b7d5763e5e1ae3b57de45.jpg: 640x640 2 tumors, 206.7ms\n",
            "image 87/100 /content/drive/MyDrive/Tumors/test/images/y787_jpg.rf.a643694dc648742fc401bbe05d57a959.jpg: 640x640 1 tumor, 204.9ms\n",
            "image 88/100 /content/drive/MyDrive/Tumors/test/images/y788_jpg.rf.875bb8f70c4a99492cedd92025396f0b.jpg: 640x640 1 tumor, 203.7ms\n",
            "image 89/100 /content/drive/MyDrive/Tumors/test/images/y789_jpg.rf.360c4aa4ac616c6eb79a00164c148165.jpg: 640x640 1 tumor, 198.7ms\n",
            "image 90/100 /content/drive/MyDrive/Tumors/test/images/y790_jpg.rf.0e1a2ec8a9a0a1ac62cc6a6aeb079e8b.jpg: 640x640 1 tumor, 210.5ms\n",
            "image 91/100 /content/drive/MyDrive/Tumors/test/images/y791_jpg.rf.8a743e0e607a9e488c6f7c133302819c.jpg: 640x640 1 tumor, 196.3ms\n",
            "image 92/100 /content/drive/MyDrive/Tumors/test/images/y792_jpg.rf.df8ccc50c41d3494868cab6aa37aa92a.jpg: 640x640 1 tumor, 196.8ms\n",
            "image 93/100 /content/drive/MyDrive/Tumors/test/images/y793_jpg.rf.8537899ca4ce77a07da3ef408b0092ea.jpg: 640x640 1 tumor, 199.1ms\n",
            "image 94/100 /content/drive/MyDrive/Tumors/test/images/y794_jpg.rf.a36df4c7d99c53cb239b1d847fa3297f.jpg: 640x640 1 tumor, 200.6ms\n",
            "image 95/100 /content/drive/MyDrive/Tumors/test/images/y795_jpg.rf.718fe00b21b9430d92aad5a4f547ade4.jpg: 640x640 1 tumor, 208.1ms\n",
            "image 96/100 /content/drive/MyDrive/Tumors/test/images/y796_jpg.rf.7308c658fd2271db018e19031d61b2d4.jpg: 640x640 2 tumors, 193.7ms\n",
            "image 97/100 /content/drive/MyDrive/Tumors/test/images/y797_jpg.rf.585e5ca11ce6c65a8593f955c6825426.jpg: 640x640 1 tumor, 205.2ms\n",
            "image 98/100 /content/drive/MyDrive/Tumors/test/images/y798_jpg.rf.5cf102b3a970e84110b00cf52a013cb4.jpg: 640x640 1 tumor, 200.1ms\n",
            "image 99/100 /content/drive/MyDrive/Tumors/test/images/y799_jpg.rf.b1cb79ffac4df717e0ba0bf2295109b3.jpg: 640x640 1 tumor, 218.1ms\n",
            "image 100/100 /content/drive/MyDrive/Tumors/test/images/y800_jpg.rf.f506757b66a5f32a1ed785f6afc3952d.jpg: 640x640 1 tumor, 198.7ms\n",
            "Speed: 3.2ms preprocess, 228.5ms inference, 1.1ms postprocess per image at shape (1, 3, 640, 640)\n"
          ]
        }
      ]
    },
    {
      "cell_type": "code",
      "source": [],
      "metadata": {
        "id": "JMDXZM-fdLko"
      },
      "execution_count": null,
      "outputs": []
    }
  ]
}